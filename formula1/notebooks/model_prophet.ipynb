{
 "cells": [
  {
   "cell_type": "code",
   "execution_count": 128,
   "metadata": {},
   "outputs": [],
   "source": [
    "import pandas as pd\n",
    "from prophet import Prophet\n",
    "import matplotlib.pyplot as plt"
   ]
  },
  {
   "cell_type": "code",
   "execution_count": 129,
   "metadata": {},
   "outputs": [],
   "source": [
    "df = pd.read_csv(\"D:\\\\visualization\\\\formula1\\\\data\\\\processed\\\\df_train_v3.csv\")"
   ]
  },
  {
   "cell_type": "code",
   "execution_count": 130,
   "metadata": {},
   "outputs": [
    {
     "data": {
      "text/plain": [
       "array([2009, 2008, 2007, 2006, 2005, 2004, 2010, 2011, 2012, 2013, 2014,\n",
       "       2015, 2016, 2017, 2018, 2019, 2020, 2021, 2022, 2023, 2024],\n",
       "      dtype=int64)"
      ]
     },
     "execution_count": 130,
     "metadata": {},
     "output_type": "execute_result"
    }
   ],
   "source": [
    "df.year.unique()"
   ]
  },
  {
   "cell_type": "code",
   "execution_count": 131,
   "metadata": {},
   "outputs": [
    {
     "data": {
      "text/html": [
       "<div>\n",
       "<style scoped>\n",
       "    .dataframe tbody tr th:only-of-type {\n",
       "        vertical-align: middle;\n",
       "    }\n",
       "\n",
       "    .dataframe tbody tr th {\n",
       "        vertical-align: top;\n",
       "    }\n",
       "\n",
       "    .dataframe thead th {\n",
       "        text-align: right;\n",
       "    }\n",
       "</style>\n",
       "<table border=\"1\" class=\"dataframe\">\n",
       "  <thead>\n",
       "    <tr style=\"text-align: right;\">\n",
       "      <th></th>\n",
       "      <th>raceId</th>\n",
       "      <th>driverId</th>\n",
       "      <th>constructorId</th>\n",
       "      <th>year</th>\n",
       "      <th>race_date</th>\n",
       "      <th>final_position</th>\n",
       "      <th>driver_points</th>\n",
       "      <th>completed_laps</th>\n",
       "      <th>fastest_lap</th>\n",
       "      <th>fastest_lap_speed</th>\n",
       "      <th>race_time_ms</th>\n",
       "      <th>qualifying_position</th>\n",
       "      <th>driver_standing_points</th>\n",
       "      <th>driver_wins</th>\n",
       "      <th>constructor_points</th>\n",
       "      <th>constructor_wins</th>\n",
       "    </tr>\n",
       "  </thead>\n",
       "  <tbody>\n",
       "    <tr>\n",
       "      <th>0</th>\n",
       "      <td>1</td>\n",
       "      <td>1</td>\n",
       "      <td>1</td>\n",
       "      <td>2009</td>\n",
       "      <td>2009-03-29</td>\n",
       "      <td>20</td>\n",
       "      <td>0.0</td>\n",
       "      <td>58</td>\n",
       "      <td>39.0</td>\n",
       "      <td>214.455</td>\n",
       "      <td>NaN</td>\n",
       "      <td>15.0</td>\n",
       "      <td>NaN</td>\n",
       "      <td>NaN</td>\n",
       "      <td>NaN</td>\n",
       "      <td>NaN</td>\n",
       "    </tr>\n",
       "    <tr>\n",
       "      <th>1</th>\n",
       "      <td>1</td>\n",
       "      <td>2</td>\n",
       "      <td>2</td>\n",
       "      <td>2009</td>\n",
       "      <td>2009-03-29</td>\n",
       "      <td>10</td>\n",
       "      <td>0.0</td>\n",
       "      <td>58</td>\n",
       "      <td>48.0</td>\n",
       "      <td>216.245</td>\n",
       "      <td>5662869.0</td>\n",
       "      <td>11.0</td>\n",
       "      <td>0.0</td>\n",
       "      <td>0.0</td>\n",
       "      <td>0.0</td>\n",
       "      <td>0.0</td>\n",
       "    </tr>\n",
       "    <tr>\n",
       "      <th>2</th>\n",
       "      <td>1</td>\n",
       "      <td>3</td>\n",
       "      <td>3</td>\n",
       "      <td>2009</td>\n",
       "      <td>2009-03-29</td>\n",
       "      <td>6</td>\n",
       "      <td>3.0</td>\n",
       "      <td>58</td>\n",
       "      <td>48.0</td>\n",
       "      <td>217.668</td>\n",
       "      <td>5661506.0</td>\n",
       "      <td>5.0</td>\n",
       "      <td>3.0</td>\n",
       "      <td>0.0</td>\n",
       "      <td>3.0</td>\n",
       "      <td>0.0</td>\n",
       "    </tr>\n",
       "    <tr>\n",
       "      <th>3</th>\n",
       "      <td>1</td>\n",
       "      <td>4</td>\n",
       "      <td>4</td>\n",
       "      <td>2009</td>\n",
       "      <td>2009-03-29</td>\n",
       "      <td>5</td>\n",
       "      <td>4.0</td>\n",
       "      <td>58</td>\n",
       "      <td>53.0</td>\n",
       "      <td>215.199</td>\n",
       "      <td>5660663.0</td>\n",
       "      <td>12.0</td>\n",
       "      <td>4.0</td>\n",
       "      <td>0.0</td>\n",
       "      <td>4.0</td>\n",
       "      <td>0.0</td>\n",
       "    </tr>\n",
       "    <tr>\n",
       "      <th>4</th>\n",
       "      <td>1</td>\n",
       "      <td>5</td>\n",
       "      <td>1</td>\n",
       "      <td>2009</td>\n",
       "      <td>2009-03-29</td>\n",
       "      <td>19</td>\n",
       "      <td>0.0</td>\n",
       "      <td>0</td>\n",
       "      <td>NaN</td>\n",
       "      <td>NaN</td>\n",
       "      <td>NaN</td>\n",
       "      <td>14.0</td>\n",
       "      <td>NaN</td>\n",
       "      <td>NaN</td>\n",
       "      <td>NaN</td>\n",
       "      <td>NaN</td>\n",
       "    </tr>\n",
       "  </tbody>\n",
       "</table>\n",
       "</div>"
      ],
      "text/plain": [
       "   raceId  driverId  constructorId  year   race_date  final_position  \\\n",
       "0       1         1              1  2009  2009-03-29              20   \n",
       "1       1         2              2  2009  2009-03-29              10   \n",
       "2       1         3              3  2009  2009-03-29               6   \n",
       "3       1         4              4  2009  2009-03-29               5   \n",
       "4       1         5              1  2009  2009-03-29              19   \n",
       "\n",
       "   driver_points  completed_laps  fastest_lap  fastest_lap_speed  \\\n",
       "0            0.0              58         39.0            214.455   \n",
       "1            0.0              58         48.0            216.245   \n",
       "2            3.0              58         48.0            217.668   \n",
       "3            4.0              58         53.0            215.199   \n",
       "4            0.0               0          NaN                NaN   \n",
       "\n",
       "   race_time_ms  qualifying_position  driver_standing_points  driver_wins  \\\n",
       "0           NaN                 15.0                     NaN          NaN   \n",
       "1     5662869.0                 11.0                     0.0          0.0   \n",
       "2     5661506.0                  5.0                     3.0          0.0   \n",
       "3     5660663.0                 12.0                     4.0          0.0   \n",
       "4           NaN                 14.0                     NaN          NaN   \n",
       "\n",
       "   constructor_points  constructor_wins  \n",
       "0                 NaN               NaN  \n",
       "1                 0.0               0.0  \n",
       "2                 3.0               0.0  \n",
       "3                 4.0               0.0  \n",
       "4                 NaN               NaN  "
      ]
     },
     "execution_count": 131,
     "metadata": {},
     "output_type": "execute_result"
    }
   ],
   "source": [
    "df.head()"
   ]
  },
  {
   "cell_type": "code",
   "execution_count": 132,
   "metadata": {},
   "outputs": [
    {
     "name": "stdout",
     "output_type": "stream",
     "text": [
      "<class 'pandas.core.frame.DataFrame'>\n",
      "RangeIndex: 8550 entries, 0 to 8549\n",
      "Data columns (total 16 columns):\n",
      " #   Column                  Non-Null Count  Dtype  \n",
      "---  ------                  --------------  -----  \n",
      " 0   raceId                  8550 non-null   int64  \n",
      " 1   driverId                8550 non-null   int64  \n",
      " 2   constructorId           8550 non-null   int64  \n",
      " 3   year                    8550 non-null   int64  \n",
      " 4   race_date               8550 non-null   object \n",
      " 5   final_position          8550 non-null   int64  \n",
      " 6   driver_points           8550 non-null   float64\n",
      " 7   completed_laps          8550 non-null   int64  \n",
      " 8   fastest_lap             8159 non-null   float64\n",
      " 9   fastest_lap_speed       8159 non-null   float64\n",
      " 10  race_time_ms            4235 non-null   float64\n",
      " 11  qualifying_position     8526 non-null   float64\n",
      " 12  driver_standing_points  8488 non-null   float64\n",
      " 13  driver_wins             8488 non-null   float64\n",
      " 14  constructor_points      8530 non-null   float64\n",
      " 15  constructor_wins        8530 non-null   float64\n",
      "dtypes: float64(9), int64(6), object(1)\n",
      "memory usage: 1.0+ MB\n"
     ]
    }
   ],
   "source": [
    "df.info()"
   ]
  },
  {
   "cell_type": "markdown",
   "metadata": {},
   "source": [
    "## Clasificación"
   ]
  },
  {
   "cell_type": "code",
   "execution_count": 133,
   "metadata": {},
   "outputs": [],
   "source": [
    "import numpy as np\n",
    "\n",
    "# Asegúrate de que 'ds' sea la columna de fecha y 'prob_ganar' sea la variable objetivo (1 si ganó, 0 si no)\n",
    "df['ds'] = pd.to_datetime(df['race_date']).dt.to_period('M').dt.to_timestamp()\n",
    "df['ds'] = pd.to_datetime(df['ds'])\n",
    "df['prob_ganar'] = np.where(df['final_position'] == 1, 1, 0)\n",
    "\n",
    "\n",
    "# Imputar valores faltantes con la mediana por columna\n",
    "df = df.fillna(df.median(numeric_only=True))"
   ]
  },
  {
   "cell_type": "code",
   "execution_count": 134,
   "metadata": {},
   "outputs": [],
   "source": [
    "# Agrupar por piloto y fecha (esto ayuda a obtener la media de probabilidad si hay duplicados)\n",
    "df = df.groupby(['driverId', 'ds']).agg({\n",
    "    'prob_ganar': 'mean',\n",
    "    'fastest_lap': 'mean',\n",
    "    'driver_points': 'mean',\n",
    "    'completed_laps': 'mean',\n",
    "    'fastest_lap_speed': 'mean',\n",
    "    'qualifying_position': 'mean',\n",
    "    'driver_standing_points': 'mean',\n",
    "    'constructor_points': 'mean',\n",
    "    'constructor_wins': 'mean'\n",
    "}).reset_index()"
   ]
  },
  {
   "cell_type": "code",
   "execution_count": 135,
   "metadata": {},
   "outputs": [
    {
     "data": {
      "text/plain": [
       "driverId                  0\n",
       "ds                        0\n",
       "prob_ganar                0\n",
       "fastest_lap               0\n",
       "driver_points             0\n",
       "completed_laps            0\n",
       "fastest_lap_speed         0\n",
       "qualifying_position       0\n",
       "driver_standing_points    0\n",
       "constructor_points        0\n",
       "constructor_wins          0\n",
       "dtype: int64"
      ]
     },
     "execution_count": 135,
     "metadata": {},
     "output_type": "execute_result"
    }
   ],
   "source": [
    "df.isnull().sum()"
   ]
  },
  {
   "cell_type": "code",
   "execution_count": 136,
   "metadata": {},
   "outputs": [
    {
     "name": "stderr",
     "output_type": "stream",
     "text": [
      "20:40:16 - cmdstanpy - INFO - Chain [1] start processing\n",
      "20:40:16 - cmdstanpy - INFO - Chain [1] done processing\n",
      "c:\\Users\\cris_\\anaconda3\\envs\\modelo_formula1\\lib\\site-packages\\prophet\\forecaster.py:1854: FutureWarning: 'M' is deprecated and will be removed in a future version, please use 'ME' instead.\n",
      "  dates = pd.date_range(\n",
      "C:\\Users\\cris_\\AppData\\Local\\Temp\\ipykernel_20800\\3974405335.py:65: SettingWithCopyWarning: \n",
      "A value is trying to be set on a copy of a slice from a DataFrame.\n",
      "Try using .loc[row_indexer,col_indexer] = value instead\n",
      "\n",
      "See the caveats in the documentation: https://pandas.pydata.org/pandas-docs/stable/user_guide/indexing.html#returning-a-view-versus-a-copy\n",
      "  forecast_diciembre_2024['driverId'] = piloto  # Agregar el ID del piloto\n",
      "c:\\Users\\cris_\\anaconda3\\envs\\modelo_formula1\\lib\\site-packages\\prophet\\forecaster.py:1854: FutureWarning: 'M' is deprecated and will be removed in a future version, please use 'ME' instead.\n",
      "  dates = pd.date_range(\n",
      "20:40:16 - cmdstanpy - INFO - Chain [1] start processing\n"
     ]
    },
    {
     "name": "stdout",
     "output_type": "stream",
     "text": [
      "No hay predicciones para diciembre de 2024 para el piloto 2.\n"
     ]
    },
    {
     "name": "stderr",
     "output_type": "stream",
     "text": [
      "20:40:16 - cmdstanpy - INFO - Chain [1] done processing\n",
      "c:\\Users\\cris_\\anaconda3\\envs\\modelo_formula1\\lib\\site-packages\\prophet\\forecaster.py:1854: FutureWarning: 'M' is deprecated and will be removed in a future version, please use 'ME' instead.\n",
      "  dates = pd.date_range(\n",
      "20:40:17 - cmdstanpy - INFO - Chain [1] start processing\n",
      "20:40:17 - cmdstanpy - INFO - Chain [1] done processing\n"
     ]
    },
    {
     "name": "stdout",
     "output_type": "stream",
     "text": [
      "No hay predicciones para diciembre de 2024 para el piloto 3.\n"
     ]
    },
    {
     "name": "stderr",
     "output_type": "stream",
     "text": [
      "c:\\Users\\cris_\\anaconda3\\envs\\modelo_formula1\\lib\\site-packages\\prophet\\forecaster.py:1854: FutureWarning: 'M' is deprecated and will be removed in a future version, please use 'ME' instead.\n",
      "  dates = pd.date_range(\n",
      "C:\\Users\\cris_\\AppData\\Local\\Temp\\ipykernel_20800\\3974405335.py:65: SettingWithCopyWarning: \n",
      "A value is trying to be set on a copy of a slice from a DataFrame.\n",
      "Try using .loc[row_indexer,col_indexer] = value instead\n",
      "\n",
      "See the caveats in the documentation: https://pandas.pydata.org/pandas-docs/stable/user_guide/indexing.html#returning-a-view-versus-a-copy\n",
      "  forecast_diciembre_2024['driverId'] = piloto  # Agregar el ID del piloto\n",
      "20:40:17 - cmdstanpy - INFO - Chain [1] start processing\n",
      "20:40:17 - cmdstanpy - INFO - Chain [1] done processing\n",
      "c:\\Users\\cris_\\anaconda3\\envs\\modelo_formula1\\lib\\site-packages\\prophet\\forecaster.py:1854: FutureWarning: 'M' is deprecated and will be removed in a future version, please use 'ME' instead.\n",
      "  dates = pd.date_range(\n",
      "c:\\Users\\cris_\\anaconda3\\envs\\modelo_formula1\\lib\\site-packages\\prophet\\forecaster.py:1854: FutureWarning: 'M' is deprecated and will be removed in a future version, please use 'ME' instead.\n",
      "  dates = pd.date_range(\n"
     ]
    },
    {
     "name": "stdout",
     "output_type": "stream",
     "text": [
      "No hay predicciones para diciembre de 2024 para el piloto 5.\n",
      "No hay predicciones para diciembre de 2024 para el piloto 6.\n"
     ]
    },
    {
     "name": "stderr",
     "output_type": "stream",
     "text": [
      "c:\\Users\\cris_\\anaconda3\\envs\\modelo_formula1\\lib\\site-packages\\prophet\\forecaster.py:1854: FutureWarning: 'M' is deprecated and will be removed in a future version, please use 'ME' instead.\n",
      "  dates = pd.date_range(\n",
      "20:40:18 - cmdstanpy - INFO - Chain [1] start processing\n",
      "20:40:18 - cmdstanpy - INFO - Chain [1] done processing\n",
      "c:\\Users\\cris_\\anaconda3\\envs\\modelo_formula1\\lib\\site-packages\\prophet\\forecaster.py:1854: FutureWarning: 'M' is deprecated and will be removed in a future version, please use 'ME' instead.\n",
      "  dates = pd.date_range(\n"
     ]
    },
    {
     "name": "stdout",
     "output_type": "stream",
     "text": [
      "No hay predicciones para diciembre de 2024 para el piloto 7.\n"
     ]
    },
    {
     "name": "stderr",
     "output_type": "stream",
     "text": [
      "20:40:18 - cmdstanpy - INFO - Chain [1] start processing\n"
     ]
    },
    {
     "name": "stdout",
     "output_type": "stream",
     "text": [
      "No hay predicciones para diciembre de 2024 para el piloto 8.\n"
     ]
    },
    {
     "name": "stderr",
     "output_type": "stream",
     "text": [
      "20:40:18 - cmdstanpy - INFO - Chain [1] done processing\n",
      "c:\\Users\\cris_\\anaconda3\\envs\\modelo_formula1\\lib\\site-packages\\prophet\\forecaster.py:1854: FutureWarning: 'M' is deprecated and will be removed in a future version, please use 'ME' instead.\n",
      "  dates = pd.date_range(\n",
      "c:\\Users\\cris_\\anaconda3\\envs\\modelo_formula1\\lib\\site-packages\\prophet\\forecaster.py:1854: FutureWarning: 'M' is deprecated and will be removed in a future version, please use 'ME' instead.\n",
      "  dates = pd.date_range(\n"
     ]
    },
    {
     "name": "stdout",
     "output_type": "stream",
     "text": [
      "No hay predicciones para diciembre de 2024 para el piloto 9.\n",
      "No hay predicciones para diciembre de 2024 para el piloto 10.\n"
     ]
    },
    {
     "name": "stderr",
     "output_type": "stream",
     "text": [
      "c:\\Users\\cris_\\anaconda3\\envs\\modelo_formula1\\lib\\site-packages\\prophet\\forecaster.py:1854: FutureWarning: 'M' is deprecated and will be removed in a future version, please use 'ME' instead.\n",
      "  dates = pd.date_range(\n",
      "c:\\Users\\cris_\\anaconda3\\envs\\modelo_formula1\\lib\\site-packages\\prophet\\forecaster.py:1854: FutureWarning: 'M' is deprecated and will be removed in a future version, please use 'ME' instead.\n",
      "  dates = pd.date_range(\n"
     ]
    },
    {
     "name": "stdout",
     "output_type": "stream",
     "text": [
      "No hay predicciones para diciembre de 2024 para el piloto 11.\n",
      "No hay predicciones para diciembre de 2024 para el piloto 12.\n"
     ]
    },
    {
     "name": "stderr",
     "output_type": "stream",
     "text": [
      "20:40:19 - cmdstanpy - INFO - Chain [1] start processing\n",
      "20:40:19 - cmdstanpy - INFO - Chain [1] done processing\n",
      "c:\\Users\\cris_\\anaconda3\\envs\\modelo_formula1\\lib\\site-packages\\prophet\\forecaster.py:1854: FutureWarning: 'M' is deprecated and will be removed in a future version, please use 'ME' instead.\n",
      "  dates = pd.date_range(\n",
      "c:\\Users\\cris_\\anaconda3\\envs\\modelo_formula1\\lib\\site-packages\\prophet\\forecaster.py:1854: FutureWarning: 'M' is deprecated and will be removed in a future version, please use 'ME' instead.\n",
      "  dates = pd.date_range(\n"
     ]
    },
    {
     "name": "stdout",
     "output_type": "stream",
     "text": [
      "No hay predicciones para diciembre de 2024 para el piloto 13.\n",
      "No hay predicciones para diciembre de 2024 para el piloto 14.\n"
     ]
    },
    {
     "name": "stderr",
     "output_type": "stream",
     "text": [
      "20:40:19 - cmdstanpy - INFO - Chain [1] start processing\n",
      "20:40:19 - cmdstanpy - INFO - Chain [1] done processing\n",
      "c:\\Users\\cris_\\anaconda3\\envs\\modelo_formula1\\lib\\site-packages\\prophet\\forecaster.py:1854: FutureWarning: 'M' is deprecated and will be removed in a future version, please use 'ME' instead.\n",
      "  dates = pd.date_range(\n",
      "c:\\Users\\cris_\\anaconda3\\envs\\modelo_formula1\\lib\\site-packages\\prophet\\forecaster.py:1854: FutureWarning: 'M' is deprecated and will be removed in a future version, please use 'ME' instead.\n",
      "  dates = pd.date_range(\n"
     ]
    },
    {
     "name": "stdout",
     "output_type": "stream",
     "text": [
      "No hay predicciones para diciembre de 2024 para el piloto 15.\n",
      "No hay predicciones para diciembre de 2024 para el piloto 16.\n"
     ]
    },
    {
     "name": "stderr",
     "output_type": "stream",
     "text": [
      "20:40:19 - cmdstanpy - INFO - Chain [1] start processing\n",
      "20:40:20 - cmdstanpy - INFO - Chain [1] done processing\n",
      "c:\\Users\\cris_\\anaconda3\\envs\\modelo_formula1\\lib\\site-packages\\prophet\\forecaster.py:1854: FutureWarning: 'M' is deprecated and will be removed in a future version, please use 'ME' instead.\n",
      "  dates = pd.date_range(\n",
      "20:40:20 - cmdstanpy - INFO - Chain [1] start processing\n",
      "20:40:20 - cmdstanpy - INFO - Chain [1] done processing\n",
      "c:\\Users\\cris_\\anaconda3\\envs\\modelo_formula1\\lib\\site-packages\\prophet\\forecaster.py:1854: FutureWarning: 'M' is deprecated and will be removed in a future version, please use 'ME' instead.\n",
      "  dates = pd.date_range(\n"
     ]
    },
    {
     "name": "stdout",
     "output_type": "stream",
     "text": [
      "No hay predicciones para diciembre de 2024 para el piloto 17.\n",
      "No hay predicciones para diciembre de 2024 para el piloto 18.\n"
     ]
    },
    {
     "name": "stderr",
     "output_type": "stream",
     "text": [
      "c:\\Users\\cris_\\anaconda3\\envs\\modelo_formula1\\lib\\site-packages\\prophet\\forecaster.py:1854: FutureWarning: 'M' is deprecated and will be removed in a future version, please use 'ME' instead.\n",
      "  dates = pd.date_range(\n",
      "20:40:20 - cmdstanpy - INFO - Chain [1] start processing\n",
      "20:40:20 - cmdstanpy - INFO - Chain [1] done processing\n",
      "c:\\Users\\cris_\\anaconda3\\envs\\modelo_formula1\\lib\\site-packages\\prophet\\forecaster.py:1854: FutureWarning: 'M' is deprecated and will be removed in a future version, please use 'ME' instead.\n",
      "  dates = pd.date_range(\n"
     ]
    },
    {
     "name": "stdout",
     "output_type": "stream",
     "text": [
      "No hay predicciones para diciembre de 2024 para el piloto 19.\n",
      "No hay predicciones para diciembre de 2024 para el piloto 20.\n"
     ]
    },
    {
     "name": "stderr",
     "output_type": "stream",
     "text": [
      "20:40:20 - cmdstanpy - INFO - Chain [1] start processing\n",
      "20:40:21 - cmdstanpy - INFO - Chain [1] done processing\n",
      "c:\\Users\\cris_\\anaconda3\\envs\\modelo_formula1\\lib\\site-packages\\prophet\\forecaster.py:1854: FutureWarning: 'M' is deprecated and will be removed in a future version, please use 'ME' instead.\n",
      "  dates = pd.date_range(\n",
      "20:40:21 - cmdstanpy - INFO - Chain [1] start processing\n"
     ]
    },
    {
     "name": "stdout",
     "output_type": "stream",
     "text": [
      "No hay predicciones para diciembre de 2024 para el piloto 21.\n"
     ]
    },
    {
     "name": "stderr",
     "output_type": "stream",
     "text": [
      "20:40:21 - cmdstanpy - INFO - Chain [1] done processing\n",
      "c:\\Users\\cris_\\anaconda3\\envs\\modelo_formula1\\lib\\site-packages\\prophet\\forecaster.py:1854: FutureWarning: 'M' is deprecated and will be removed in a future version, please use 'ME' instead.\n",
      "  dates = pd.date_range(\n",
      "c:\\Users\\cris_\\anaconda3\\envs\\modelo_formula1\\lib\\site-packages\\prophet\\forecaster.py:1854: FutureWarning: 'M' is deprecated and will be removed in a future version, please use 'ME' instead.\n",
      "  dates = pd.date_range(\n"
     ]
    },
    {
     "name": "stdout",
     "output_type": "stream",
     "text": [
      "No hay predicciones para diciembre de 2024 para el piloto 22.\n",
      "No hay predicciones para diciembre de 2024 para el piloto 23.\n"
     ]
    },
    {
     "name": "stderr",
     "output_type": "stream",
     "text": [
      "c:\\Users\\cris_\\anaconda3\\envs\\modelo_formula1\\lib\\site-packages\\prophet\\forecaster.py:1854: FutureWarning: 'M' is deprecated and will be removed in a future version, please use 'ME' instead.\n",
      "  dates = pd.date_range(\n",
      "c:\\Users\\cris_\\anaconda3\\envs\\modelo_formula1\\lib\\site-packages\\prophet\\forecaster.py:1854: FutureWarning: 'M' is deprecated and will be removed in a future version, please use 'ME' instead.\n",
      "  dates = pd.date_range(\n"
     ]
    },
    {
     "name": "stdout",
     "output_type": "stream",
     "text": [
      "No hay predicciones para diciembre de 2024 para el piloto 24.\n",
      "No hay predicciones para diciembre de 2024 para el piloto 25.\n"
     ]
    },
    {
     "name": "stderr",
     "output_type": "stream",
     "text": [
      "c:\\Users\\cris_\\anaconda3\\envs\\modelo_formula1\\lib\\site-packages\\prophet\\forecaster.py:1854: FutureWarning: 'M' is deprecated and will be removed in a future version, please use 'ME' instead.\n",
      "  dates = pd.date_range(\n",
      "c:\\Users\\cris_\\anaconda3\\envs\\modelo_formula1\\lib\\site-packages\\prophet\\forecaster.py:1854: FutureWarning: 'M' is deprecated and will be removed in a future version, please use 'ME' instead.\n",
      "  dates = pd.date_range(\n"
     ]
    },
    {
     "name": "stdout",
     "output_type": "stream",
     "text": [
      "No hay predicciones para diciembre de 2024 para el piloto 26.\n",
      "No hay predicciones para diciembre de 2024 para el piloto 27.\n",
      "Piloto 28 tiene menos de 2 registros válidos. Saltando este piloto.\n"
     ]
    },
    {
     "name": "stderr",
     "output_type": "stream",
     "text": [
      "c:\\Users\\cris_\\anaconda3\\envs\\modelo_formula1\\lib\\site-packages\\prophet\\forecaster.py:1854: FutureWarning: 'M' is deprecated and will be removed in a future version, please use 'ME' instead.\n",
      "  dates = pd.date_range(\n",
      "20:40:22 - cmdstanpy - INFO - Chain [1] start processing\n"
     ]
    },
    {
     "name": "stdout",
     "output_type": "stream",
     "text": [
      "No hay predicciones para diciembre de 2024 para el piloto 29.\n"
     ]
    },
    {
     "name": "stderr",
     "output_type": "stream",
     "text": [
      "20:40:22 - cmdstanpy - INFO - Chain [1] done processing\n",
      "c:\\Users\\cris_\\anaconda3\\envs\\modelo_formula1\\lib\\site-packages\\prophet\\forecaster.py:1854: FutureWarning: 'M' is deprecated and will be removed in a future version, please use 'ME' instead.\n",
      "  dates = pd.date_range(\n",
      "20:40:22 - cmdstanpy - INFO - Chain [1] start processing\n"
     ]
    },
    {
     "name": "stdout",
     "output_type": "stream",
     "text": [
      "No hay predicciones para diciembre de 2024 para el piloto 30.\n"
     ]
    },
    {
     "name": "stderr",
     "output_type": "stream",
     "text": [
      "20:40:23 - cmdstanpy - INFO - Chain [1] done processing\n",
      "c:\\Users\\cris_\\anaconda3\\envs\\modelo_formula1\\lib\\site-packages\\prophet\\forecaster.py:1854: FutureWarning: 'M' is deprecated and will be removed in a future version, please use 'ME' instead.\n",
      "  dates = pd.date_range(\n",
      "c:\\Users\\cris_\\anaconda3\\envs\\modelo_formula1\\lib\\site-packages\\prophet\\forecaster.py:1854: FutureWarning: 'M' is deprecated and will be removed in a future version, please use 'ME' instead.\n",
      "  dates = pd.date_range(\n"
     ]
    },
    {
     "name": "stdout",
     "output_type": "stream",
     "text": [
      "No hay predicciones para diciembre de 2024 para el piloto 31.\n",
      "No hay predicciones para diciembre de 2024 para el piloto 32.\n"
     ]
    },
    {
     "name": "stderr",
     "output_type": "stream",
     "text": [
      "c:\\Users\\cris_\\anaconda3\\envs\\modelo_formula1\\lib\\site-packages\\prophet\\forecaster.py:1854: FutureWarning: 'M' is deprecated and will be removed in a future version, please use 'ME' instead.\n",
      "  dates = pd.date_range(\n",
      "c:\\Users\\cris_\\anaconda3\\envs\\modelo_formula1\\lib\\site-packages\\prophet\\forecaster.py:1854: FutureWarning: 'M' is deprecated and will be removed in a future version, please use 'ME' instead.\n",
      "  dates = pd.date_range(\n"
     ]
    },
    {
     "name": "stdout",
     "output_type": "stream",
     "text": [
      "No hay predicciones para diciembre de 2024 para el piloto 33.\n",
      "No hay predicciones para diciembre de 2024 para el piloto 34.\n"
     ]
    },
    {
     "name": "stderr",
     "output_type": "stream",
     "text": [
      "c:\\Users\\cris_\\anaconda3\\envs\\modelo_formula1\\lib\\site-packages\\prophet\\forecaster.py:1854: FutureWarning: 'M' is deprecated and will be removed in a future version, please use 'ME' instead.\n",
      "  dates = pd.date_range(\n",
      "c:\\Users\\cris_\\anaconda3\\envs\\modelo_formula1\\lib\\site-packages\\prophet\\forecaster.py:1854: FutureWarning: 'M' is deprecated and will be removed in a future version, please use 'ME' instead.\n",
      "  dates = pd.date_range(\n"
     ]
    },
    {
     "name": "stdout",
     "output_type": "stream",
     "text": [
      "No hay predicciones para diciembre de 2024 para el piloto 35.\n",
      "No hay predicciones para diciembre de 2024 para el piloto 36.\n"
     ]
    },
    {
     "name": "stderr",
     "output_type": "stream",
     "text": [
      "c:\\Users\\cris_\\anaconda3\\envs\\modelo_formula1\\lib\\site-packages\\prophet\\forecaster.py:1854: FutureWarning: 'M' is deprecated and will be removed in a future version, please use 'ME' instead.\n",
      "  dates = pd.date_range(\n",
      "c:\\Users\\cris_\\anaconda3\\envs\\modelo_formula1\\lib\\site-packages\\prophet\\forecaster.py:1854: FutureWarning: 'M' is deprecated and will be removed in a future version, please use 'ME' instead.\n",
      "  dates = pd.date_range(\n"
     ]
    },
    {
     "name": "stdout",
     "output_type": "stream",
     "text": [
      "No hay predicciones para diciembre de 2024 para el piloto 37.\n",
      "No hay predicciones para diciembre de 2024 para el piloto 38.\n"
     ]
    },
    {
     "name": "stderr",
     "output_type": "stream",
     "text": [
      "c:\\Users\\cris_\\anaconda3\\envs\\modelo_formula1\\lib\\site-packages\\prophet\\forecaster.py:1854: FutureWarning: 'M' is deprecated and will be removed in a future version, please use 'ME' instead.\n",
      "  dates = pd.date_range(\n",
      "c:\\Users\\cris_\\anaconda3\\envs\\modelo_formula1\\lib\\site-packages\\prophet\\forecaster.py:1854: FutureWarning: 'M' is deprecated and will be removed in a future version, please use 'ME' instead.\n",
      "  dates = pd.date_range(\n"
     ]
    },
    {
     "name": "stdout",
     "output_type": "stream",
     "text": [
      "No hay predicciones para diciembre de 2024 para el piloto 39.\n",
      "No hay predicciones para diciembre de 2024 para el piloto 40.\n"
     ]
    },
    {
     "name": "stderr",
     "output_type": "stream",
     "text": [
      "c:\\Users\\cris_\\anaconda3\\envs\\modelo_formula1\\lib\\site-packages\\prophet\\forecaster.py:1854: FutureWarning: 'M' is deprecated and will be removed in a future version, please use 'ME' instead.\n",
      "  dates = pd.date_range(\n",
      "c:\\Users\\cris_\\anaconda3\\envs\\modelo_formula1\\lib\\site-packages\\prophet\\forecaster.py:1854: FutureWarning: 'M' is deprecated and will be removed in a future version, please use 'ME' instead.\n",
      "  dates = pd.date_range(\n"
     ]
    },
    {
     "name": "stdout",
     "output_type": "stream",
     "text": [
      "No hay predicciones para diciembre de 2024 para el piloto 41.\n",
      "No hay predicciones para diciembre de 2024 para el piloto 42.\n"
     ]
    },
    {
     "name": "stderr",
     "output_type": "stream",
     "text": [
      "c:\\Users\\cris_\\anaconda3\\envs\\modelo_formula1\\lib\\site-packages\\prophet\\forecaster.py:1854: FutureWarning: 'M' is deprecated and will be removed in a future version, please use 'ME' instead.\n",
      "  dates = pd.date_range(\n",
      "c:\\Users\\cris_\\anaconda3\\envs\\modelo_formula1\\lib\\site-packages\\prophet\\forecaster.py:1854: FutureWarning: 'M' is deprecated and will be removed in a future version, please use 'ME' instead.\n",
      "  dates = pd.date_range(\n"
     ]
    },
    {
     "name": "stdout",
     "output_type": "stream",
     "text": [
      "No hay predicciones para diciembre de 2024 para el piloto 43.\n",
      "No hay predicciones para diciembre de 2024 para el piloto 44.\n"
     ]
    },
    {
     "name": "stderr",
     "output_type": "stream",
     "text": [
      "c:\\Users\\cris_\\anaconda3\\envs\\modelo_formula1\\lib\\site-packages\\prophet\\forecaster.py:1854: FutureWarning: 'M' is deprecated and will be removed in a future version, please use 'ME' instead.\n",
      "  dates = pd.date_range(\n",
      "c:\\Users\\cris_\\anaconda3\\envs\\modelo_formula1\\lib\\site-packages\\prophet\\forecaster.py:1854: FutureWarning: 'M' is deprecated and will be removed in a future version, please use 'ME' instead.\n",
      "  dates = pd.date_range(\n"
     ]
    },
    {
     "name": "stdout",
     "output_type": "stream",
     "text": [
      "No hay predicciones para diciembre de 2024 para el piloto 45.\n",
      "No hay predicciones para diciembre de 2024 para el piloto 46.\n"
     ]
    },
    {
     "name": "stderr",
     "output_type": "stream",
     "text": [
      "c:\\Users\\cris_\\anaconda3\\envs\\modelo_formula1\\lib\\site-packages\\prophet\\forecaster.py:1854: FutureWarning: 'M' is deprecated and will be removed in a future version, please use 'ME' instead.\n",
      "  dates = pd.date_range(\n",
      "c:\\Users\\cris_\\anaconda3\\envs\\modelo_formula1\\lib\\site-packages\\prophet\\forecaster.py:1854: FutureWarning: 'M' is deprecated and will be removed in a future version, please use 'ME' instead.\n",
      "  dates = pd.date_range(\n"
     ]
    },
    {
     "name": "stdout",
     "output_type": "stream",
     "text": [
      "No hay predicciones para diciembre de 2024 para el piloto 47.\n",
      "Piloto 48 tiene menos de 2 registros válidos. Saltando este piloto.\n",
      "No hay predicciones para diciembre de 2024 para el piloto 67.\n",
      "Piloto 69 tiene menos de 2 registros válidos. Saltando este piloto.\n"
     ]
    },
    {
     "name": "stderr",
     "output_type": "stream",
     "text": [
      "c:\\Users\\cris_\\anaconda3\\envs\\modelo_formula1\\lib\\site-packages\\prophet\\forecaster.py:1854: FutureWarning: 'M' is deprecated and will be removed in a future version, please use 'ME' instead.\n",
      "  dates = pd.date_range(\n",
      "c:\\Users\\cris_\\anaconda3\\envs\\modelo_formula1\\lib\\site-packages\\prophet\\forecaster.py:1854: FutureWarning: 'M' is deprecated and will be removed in a future version, please use 'ME' instead.\n",
      "  dates = pd.date_range(\n"
     ]
    },
    {
     "name": "stdout",
     "output_type": "stream",
     "text": [
      "No hay predicciones para diciembre de 2024 para el piloto 153.\n",
      "No hay predicciones para diciembre de 2024 para el piloto 154.\n"
     ]
    },
    {
     "name": "stderr",
     "output_type": "stream",
     "text": [
      "c:\\Users\\cris_\\anaconda3\\envs\\modelo_formula1\\lib\\site-packages\\prophet\\forecaster.py:1854: FutureWarning: 'M' is deprecated and will be removed in a future version, please use 'ME' instead.\n",
      "  dates = pd.date_range(\n",
      "c:\\Users\\cris_\\anaconda3\\envs\\modelo_formula1\\lib\\site-packages\\prophet\\forecaster.py:1854: FutureWarning: 'M' is deprecated and will be removed in a future version, please use 'ME' instead.\n",
      "  dates = pd.date_range(\n",
      "C:\\Users\\cris_\\AppData\\Local\\Temp\\ipykernel_20800\\3974405335.py:65: SettingWithCopyWarning: \n",
      "A value is trying to be set on a copy of a slice from a DataFrame.\n",
      "Try using .loc[row_indexer,col_indexer] = value instead\n",
      "\n",
      "See the caveats in the documentation: https://pandas.pydata.org/pandas-docs/stable/user_guide/indexing.html#returning-a-view-versus-a-copy\n",
      "  forecast_diciembre_2024['driverId'] = piloto  # Agregar el ID del piloto\n"
     ]
    },
    {
     "name": "stdout",
     "output_type": "stream",
     "text": [
      "No hay predicciones para diciembre de 2024 para el piloto 155.\n"
     ]
    },
    {
     "name": "stderr",
     "output_type": "stream",
     "text": [
      "c:\\Users\\cris_\\anaconda3\\envs\\modelo_formula1\\lib\\site-packages\\prophet\\forecaster.py:1854: FutureWarning: 'M' is deprecated and will be removed in a future version, please use 'ME' instead.\n",
      "  dates = pd.date_range(\n",
      "c:\\Users\\cris_\\anaconda3\\envs\\modelo_formula1\\lib\\site-packages\\prophet\\forecaster.py:1854: FutureWarning: 'M' is deprecated and will be removed in a future version, please use 'ME' instead.\n",
      "  dates = pd.date_range(\n"
     ]
    },
    {
     "name": "stdout",
     "output_type": "stream",
     "text": [
      "No hay predicciones para diciembre de 2024 para el piloto 808.\n",
      "No hay predicciones para diciembre de 2024 para el piloto 810.\n"
     ]
    },
    {
     "name": "stderr",
     "output_type": "stream",
     "text": [
      "c:\\Users\\cris_\\anaconda3\\envs\\modelo_formula1\\lib\\site-packages\\prophet\\forecaster.py:1854: FutureWarning: 'M' is deprecated and will be removed in a future version, please use 'ME' instead.\n",
      "  dates = pd.date_range(\n",
      "c:\\Users\\cris_\\anaconda3\\envs\\modelo_formula1\\lib\\site-packages\\prophet\\forecaster.py:1854: FutureWarning: 'M' is deprecated and will be removed in a future version, please use 'ME' instead.\n",
      "  dates = pd.date_range(\n"
     ]
    },
    {
     "name": "stdout",
     "output_type": "stream",
     "text": [
      "No hay predicciones para diciembre de 2024 para el piloto 811.\n",
      "No hay predicciones para diciembre de 2024 para el piloto 812.\n"
     ]
    },
    {
     "name": "stderr",
     "output_type": "stream",
     "text": [
      "20:40:27 - cmdstanpy - INFO - Chain [1] start processing\n",
      "20:40:27 - cmdstanpy - INFO - Chain [1] done processing\n",
      "c:\\Users\\cris_\\anaconda3\\envs\\modelo_formula1\\lib\\site-packages\\prophet\\forecaster.py:1854: FutureWarning: 'M' is deprecated and will be removed in a future version, please use 'ME' instead.\n",
      "  dates = pd.date_range(\n",
      "c:\\Users\\cris_\\anaconda3\\envs\\modelo_formula1\\lib\\site-packages\\prophet\\forecaster.py:1854: FutureWarning: 'M' is deprecated and will be removed in a future version, please use 'ME' instead.\n",
      "  dates = pd.date_range(\n"
     ]
    },
    {
     "name": "stdout",
     "output_type": "stream",
     "text": [
      "No hay predicciones para diciembre de 2024 para el piloto 813.\n",
      "No hay predicciones para diciembre de 2024 para el piloto 814.\n"
     ]
    },
    {
     "name": "stderr",
     "output_type": "stream",
     "text": [
      "20:40:27 - cmdstanpy - INFO - Chain [1] start processing\n",
      "20:40:27 - cmdstanpy - INFO - Chain [1] done processing\n",
      "c:\\Users\\cris_\\anaconda3\\envs\\modelo_formula1\\lib\\site-packages\\prophet\\forecaster.py:1854: FutureWarning: 'M' is deprecated and will be removed in a future version, please use 'ME' instead.\n",
      "  dates = pd.date_range(\n",
      "C:\\Users\\cris_\\AppData\\Local\\Temp\\ipykernel_20800\\3974405335.py:65: SettingWithCopyWarning: \n",
      "A value is trying to be set on a copy of a slice from a DataFrame.\n",
      "Try using .loc[row_indexer,col_indexer] = value instead\n",
      "\n",
      "See the caveats in the documentation: https://pandas.pydata.org/pandas-docs/stable/user_guide/indexing.html#returning-a-view-versus-a-copy\n",
      "  forecast_diciembre_2024['driverId'] = piloto  # Agregar el ID del piloto\n",
      "c:\\Users\\cris_\\anaconda3\\envs\\modelo_formula1\\lib\\site-packages\\prophet\\forecaster.py:1854: FutureWarning: 'M' is deprecated and will be removed in a future version, please use 'ME' instead.\n",
      "  dates = pd.date_range(\n",
      "20:40:28 - cmdstanpy - INFO - Chain [1] start processing\n",
      "20:40:28 - cmdstanpy - INFO - Chain [1] done processing\n"
     ]
    },
    {
     "name": "stdout",
     "output_type": "stream",
     "text": [
      "No hay predicciones para diciembre de 2024 para el piloto 816.\n"
     ]
    },
    {
     "name": "stderr",
     "output_type": "stream",
     "text": [
      "c:\\Users\\cris_\\anaconda3\\envs\\modelo_formula1\\lib\\site-packages\\prophet\\forecaster.py:1854: FutureWarning: 'M' is deprecated and will be removed in a future version, please use 'ME' instead.\n",
      "  dates = pd.date_range(\n",
      "C:\\Users\\cris_\\AppData\\Local\\Temp\\ipykernel_20800\\3974405335.py:65: SettingWithCopyWarning: \n",
      "A value is trying to be set on a copy of a slice from a DataFrame.\n",
      "Try using .loc[row_indexer,col_indexer] = value instead\n",
      "\n",
      "See the caveats in the documentation: https://pandas.pydata.org/pandas-docs/stable/user_guide/indexing.html#returning-a-view-versus-a-copy\n",
      "  forecast_diciembre_2024['driverId'] = piloto  # Agregar el ID del piloto\n",
      "c:\\Users\\cris_\\anaconda3\\envs\\modelo_formula1\\lib\\site-packages\\prophet\\forecaster.py:1854: FutureWarning: 'M' is deprecated and will be removed in a future version, please use 'ME' instead.\n",
      "  dates = pd.date_range(\n"
     ]
    },
    {
     "name": "stdout",
     "output_type": "stream",
     "text": [
      "No hay predicciones para diciembre de 2024 para el piloto 818.\n",
      "No hay predicciones para diciembre de 2024 para el piloto 819.\n"
     ]
    },
    {
     "name": "stderr",
     "output_type": "stream",
     "text": [
      "c:\\Users\\cris_\\anaconda3\\envs\\modelo_formula1\\lib\\site-packages\\prophet\\forecaster.py:1854: FutureWarning: 'M' is deprecated and will be removed in a future version, please use 'ME' instead.\n",
      "  dates = pd.date_range(\n",
      "c:\\Users\\cris_\\anaconda3\\envs\\modelo_formula1\\lib\\site-packages\\prophet\\forecaster.py:1854: FutureWarning: 'M' is deprecated and will be removed in a future version, please use 'ME' instead.\n",
      "  dates = pd.date_range(\n"
     ]
    },
    {
     "name": "stdout",
     "output_type": "stream",
     "text": [
      "No hay predicciones para diciembre de 2024 para el piloto 820.\n",
      "No hay predicciones para diciembre de 2024 para el piloto 821.\n"
     ]
    },
    {
     "name": "stderr",
     "output_type": "stream",
     "text": [
      "c:\\Users\\cris_\\anaconda3\\envs\\modelo_formula1\\lib\\site-packages\\prophet\\forecaster.py:1854: FutureWarning: 'M' is deprecated and will be removed in a future version, please use 'ME' instead.\n",
      "  dates = pd.date_range(\n",
      "20:40:28 - cmdstanpy - INFO - Chain [1] start processing\n",
      "20:40:29 - cmdstanpy - INFO - Chain [1] done processing\n",
      "c:\\Users\\cris_\\anaconda3\\envs\\modelo_formula1\\lib\\site-packages\\prophet\\forecaster.py:1854: FutureWarning: 'M' is deprecated and will be removed in a future version, please use 'ME' instead.\n",
      "  dates = pd.date_range(\n",
      "C:\\Users\\cris_\\AppData\\Local\\Temp\\ipykernel_20800\\3974405335.py:65: SettingWithCopyWarning: \n",
      "A value is trying to be set on a copy of a slice from a DataFrame.\n",
      "Try using .loc[row_indexer,col_indexer] = value instead\n",
      "\n",
      "See the caveats in the documentation: https://pandas.pydata.org/pandas-docs/stable/user_guide/indexing.html#returning-a-view-versus-a-copy\n",
      "  forecast_diciembre_2024['driverId'] = piloto  # Agregar el ID del piloto\n",
      "c:\\Users\\cris_\\anaconda3\\envs\\modelo_formula1\\lib\\site-packages\\prophet\\forecaster.py:1854: FutureWarning: 'M' is deprecated and will be removed in a future version, please use 'ME' instead.\n",
      "  dates = pd.date_range(\n"
     ]
    },
    {
     "name": "stdout",
     "output_type": "stream",
     "text": [
      "No hay predicciones para diciembre de 2024 para el piloto 823.\n",
      "No hay predicciones para diciembre de 2024 para el piloto 824.\n"
     ]
    },
    {
     "name": "stderr",
     "output_type": "stream",
     "text": [
      "c:\\Users\\cris_\\anaconda3\\envs\\modelo_formula1\\lib\\site-packages\\prophet\\forecaster.py:1854: FutureWarning: 'M' is deprecated and will be removed in a future version, please use 'ME' instead.\n",
      "  dates = pd.date_range(\n",
      "c:\\Users\\cris_\\anaconda3\\envs\\modelo_formula1\\lib\\site-packages\\prophet\\forecaster.py:1854: FutureWarning: 'M' is deprecated and will be removed in a future version, please use 'ME' instead.\n",
      "  dates = pd.date_range(\n",
      "C:\\Users\\cris_\\AppData\\Local\\Temp\\ipykernel_20800\\3974405335.py:65: SettingWithCopyWarning: \n",
      "A value is trying to be set on a copy of a slice from a DataFrame.\n",
      "Try using .loc[row_indexer,col_indexer] = value instead\n",
      "\n",
      "See the caveats in the documentation: https://pandas.pydata.org/pandas-docs/stable/user_guide/indexing.html#returning-a-view-versus-a-copy\n",
      "  forecast_diciembre_2024['driverId'] = piloto  # Agregar el ID del piloto\n",
      "c:\\Users\\cris_\\anaconda3\\envs\\modelo_formula1\\lib\\site-packages\\prophet\\forecaster.py:1854: FutureWarning: 'M' is deprecated and will be removed in a future version, please use 'ME' instead.\n",
      "  dates = pd.date_range(\n",
      "c:\\Users\\cris_\\anaconda3\\envs\\modelo_formula1\\lib\\site-packages\\prophet\\forecaster.py:1854: FutureWarning: 'M' is deprecated and will be removed in a future version, please use 'ME' instead.\n",
      "  dates = pd.date_range(\n"
     ]
    },
    {
     "name": "stdout",
     "output_type": "stream",
     "text": [
      "No hay predicciones para diciembre de 2024 para el piloto 826.\n",
      "Piloto 827 tiene menos de 2 registros válidos. Saltando este piloto.\n",
      "No hay predicciones para diciembre de 2024 para el piloto 828.\n"
     ]
    },
    {
     "name": "stderr",
     "output_type": "stream",
     "text": [
      "c:\\Users\\cris_\\anaconda3\\envs\\modelo_formula1\\lib\\site-packages\\prophet\\forecaster.py:1854: FutureWarning: 'M' is deprecated and will be removed in a future version, please use 'ME' instead.\n",
      "  dates = pd.date_range(\n",
      "20:40:30 - cmdstanpy - INFO - Chain [1] start processing\n"
     ]
    },
    {
     "name": "stdout",
     "output_type": "stream",
     "text": [
      "No hay predicciones para diciembre de 2024 para el piloto 829.\n"
     ]
    },
    {
     "name": "stderr",
     "output_type": "stream",
     "text": [
      "20:40:30 - cmdstanpy - INFO - Chain [1] done processing\n",
      "c:\\Users\\cris_\\anaconda3\\envs\\modelo_formula1\\lib\\site-packages\\prophet\\forecaster.py:1854: FutureWarning: 'M' is deprecated and will be removed in a future version, please use 'ME' instead.\n",
      "  dates = pd.date_range(\n",
      "C:\\Users\\cris_\\AppData\\Local\\Temp\\ipykernel_20800\\3974405335.py:65: SettingWithCopyWarning: \n",
      "A value is trying to be set on a copy of a slice from a DataFrame.\n",
      "Try using .loc[row_indexer,col_indexer] = value instead\n",
      "\n",
      "See the caveats in the documentation: https://pandas.pydata.org/pandas-docs/stable/user_guide/indexing.html#returning-a-view-versus-a-copy\n",
      "  forecast_diciembre_2024['driverId'] = piloto  # Agregar el ID del piloto\n",
      "c:\\Users\\cris_\\anaconda3\\envs\\modelo_formula1\\lib\\site-packages\\prophet\\forecaster.py:1854: FutureWarning: 'M' is deprecated and will be removed in a future version, please use 'ME' instead.\n",
      "  dates = pd.date_range(\n",
      "20:40:30 - cmdstanpy - INFO - Chain [1] start processing\n"
     ]
    },
    {
     "name": "stdout",
     "output_type": "stream",
     "text": [
      "No hay predicciones para diciembre de 2024 para el piloto 831.\n"
     ]
    },
    {
     "name": "stderr",
     "output_type": "stream",
     "text": [
      "20:40:31 - cmdstanpy - INFO - Chain [1] done processing\n",
      "c:\\Users\\cris_\\anaconda3\\envs\\modelo_formula1\\lib\\site-packages\\prophet\\forecaster.py:1854: FutureWarning: 'M' is deprecated and will be removed in a future version, please use 'ME' instead.\n",
      "  dates = pd.date_range(\n",
      "C:\\Users\\cris_\\AppData\\Local\\Temp\\ipykernel_20800\\3974405335.py:65: SettingWithCopyWarning: \n",
      "A value is trying to be set on a copy of a slice from a DataFrame.\n",
      "Try using .loc[row_indexer,col_indexer] = value instead\n",
      "\n",
      "See the caveats in the documentation: https://pandas.pydata.org/pandas-docs/stable/user_guide/indexing.html#returning-a-view-versus-a-copy\n",
      "  forecast_diciembre_2024['driverId'] = piloto  # Agregar el ID del piloto\n",
      "c:\\Users\\cris_\\anaconda3\\envs\\modelo_formula1\\lib\\site-packages\\prophet\\forecaster.py:1854: FutureWarning: 'M' is deprecated and will be removed in a future version, please use 'ME' instead.\n",
      "  dates = pd.date_range(\n"
     ]
    },
    {
     "name": "stdout",
     "output_type": "stream",
     "text": [
      "No hay predicciones para diciembre de 2024 para el piloto 833.\n",
      "No hay predicciones para diciembre de 2024 para el piloto 834.\n"
     ]
    },
    {
     "name": "stderr",
     "output_type": "stream",
     "text": [
      "c:\\Users\\cris_\\anaconda3\\envs\\modelo_formula1\\lib\\site-packages\\prophet\\forecaster.py:1854: FutureWarning: 'M' is deprecated and will be removed in a future version, please use 'ME' instead.\n",
      "  dates = pd.date_range(\n",
      "c:\\Users\\cris_\\anaconda3\\envs\\modelo_formula1\\lib\\site-packages\\prophet\\forecaster.py:1854: FutureWarning: 'M' is deprecated and will be removed in a future version, please use 'ME' instead.\n",
      "  dates = pd.date_range(\n"
     ]
    },
    {
     "name": "stdout",
     "output_type": "stream",
     "text": [
      "No hay predicciones para diciembre de 2024 para el piloto 835.\n",
      "No hay predicciones para diciembre de 2024 para el piloto 836.\n"
     ]
    },
    {
     "name": "stderr",
     "output_type": "stream",
     "text": [
      "c:\\Users\\cris_\\anaconda3\\envs\\modelo_formula1\\lib\\site-packages\\prophet\\forecaster.py:1854: FutureWarning: 'M' is deprecated and will be removed in a future version, please use 'ME' instead.\n",
      "  dates = pd.date_range(\n",
      "c:\\Users\\cris_\\anaconda3\\envs\\modelo_formula1\\lib\\site-packages\\prophet\\forecaster.py:1854: FutureWarning: 'M' is deprecated and will be removed in a future version, please use 'ME' instead.\n",
      "  dates = pd.date_range(\n"
     ]
    },
    {
     "name": "stdout",
     "output_type": "stream",
     "text": [
      "No hay predicciones para diciembre de 2024 para el piloto 837.\n",
      "No hay predicciones para diciembre de 2024 para el piloto 838.\n"
     ]
    },
    {
     "name": "stderr",
     "output_type": "stream",
     "text": [
      "c:\\Users\\cris_\\anaconda3\\envs\\modelo_formula1\\lib\\site-packages\\prophet\\forecaster.py:1854: FutureWarning: 'M' is deprecated and will be removed in a future version, please use 'ME' instead.\n",
      "  dates = pd.date_range(\n",
      "20:40:32 - cmdstanpy - INFO - Chain [1] start processing\n",
      "20:40:32 - cmdstanpy - INFO - Chain [1] done processing\n",
      "c:\\Users\\cris_\\anaconda3\\envs\\modelo_formula1\\lib\\site-packages\\prophet\\forecaster.py:1854: FutureWarning: 'M' is deprecated and will be removed in a future version, please use 'ME' instead.\n",
      "  dates = pd.date_range(\n",
      "C:\\Users\\cris_\\AppData\\Local\\Temp\\ipykernel_20800\\3974405335.py:65: SettingWithCopyWarning: \n",
      "A value is trying to be set on a copy of a slice from a DataFrame.\n",
      "Try using .loc[row_indexer,col_indexer] = value instead\n",
      "\n",
      "See the caveats in the documentation: https://pandas.pydata.org/pandas-docs/stable/user_guide/indexing.html#returning-a-view-versus-a-copy\n",
      "  forecast_diciembre_2024['driverId'] = piloto  # Agregar el ID del piloto\n",
      "c:\\Users\\cris_\\anaconda3\\envs\\modelo_formula1\\lib\\site-packages\\prophet\\forecaster.py:1854: FutureWarning: 'M' is deprecated and will be removed in a future version, please use 'ME' instead.\n",
      "  dates = pd.date_range(\n",
      "C:\\Users\\cris_\\AppData\\Local\\Temp\\ipykernel_20800\\3974405335.py:65: SettingWithCopyWarning: \n",
      "A value is trying to be set on a copy of a slice from a DataFrame.\n",
      "Try using .loc[row_indexer,col_indexer] = value instead\n",
      "\n",
      "See the caveats in the documentation: https://pandas.pydata.org/pandas-docs/stable/user_guide/indexing.html#returning-a-view-versus-a-copy\n",
      "  forecast_diciembre_2024['driverId'] = piloto  # Agregar el ID del piloto\n",
      "c:\\Users\\cris_\\anaconda3\\envs\\modelo_formula1\\lib\\site-packages\\prophet\\forecaster.py:1854: FutureWarning: 'M' is deprecated and will be removed in a future version, please use 'ME' instead.\n",
      "  dates = pd.date_range(\n",
      "20:40:32 - cmdstanpy - INFO - Chain [1] start processing\n"
     ]
    },
    {
     "name": "stdout",
     "output_type": "stream",
     "text": [
      "No hay predicciones para diciembre de 2024 para el piloto 841.\n"
     ]
    },
    {
     "name": "stderr",
     "output_type": "stream",
     "text": [
      "20:40:32 - cmdstanpy - INFO - Chain [1] done processing\n",
      "c:\\Users\\cris_\\anaconda3\\envs\\modelo_formula1\\lib\\site-packages\\prophet\\forecaster.py:1854: FutureWarning: 'M' is deprecated and will be removed in a future version, please use 'ME' instead.\n",
      "  dates = pd.date_range(\n",
      "C:\\Users\\cris_\\AppData\\Local\\Temp\\ipykernel_20800\\3974405335.py:65: SettingWithCopyWarning: \n",
      "A value is trying to be set on a copy of a slice from a DataFrame.\n",
      "Try using .loc[row_indexer,col_indexer] = value instead\n",
      "\n",
      "See the caveats in the documentation: https://pandas.pydata.org/pandas-docs/stable/user_guide/indexing.html#returning-a-view-versus-a-copy\n",
      "  forecast_diciembre_2024['driverId'] = piloto  # Agregar el ID del piloto\n",
      "c:\\Users\\cris_\\anaconda3\\envs\\modelo_formula1\\lib\\site-packages\\prophet\\forecaster.py:1854: FutureWarning: 'M' is deprecated and will be removed in a future version, please use 'ME' instead.\n",
      "  dates = pd.date_range(\n",
      "20:40:33 - cmdstanpy - INFO - Chain [1] start processing\n"
     ]
    },
    {
     "name": "stdout",
     "output_type": "stream",
     "text": [
      "No hay predicciones para diciembre de 2024 para el piloto 843.\n"
     ]
    },
    {
     "name": "stderr",
     "output_type": "stream",
     "text": [
      "20:40:33 - cmdstanpy - INFO - Chain [1] done processing\n",
      "c:\\Users\\cris_\\anaconda3\\envs\\modelo_formula1\\lib\\site-packages\\prophet\\forecaster.py:1854: FutureWarning: 'M' is deprecated and will be removed in a future version, please use 'ME' instead.\n",
      "  dates = pd.date_range(\n",
      "C:\\Users\\cris_\\AppData\\Local\\Temp\\ipykernel_20800\\3974405335.py:65: SettingWithCopyWarning: \n",
      "A value is trying to be set on a copy of a slice from a DataFrame.\n",
      "Try using .loc[row_indexer,col_indexer] = value instead\n",
      "\n",
      "See the caveats in the documentation: https://pandas.pydata.org/pandas-docs/stable/user_guide/indexing.html#returning-a-view-versus-a-copy\n",
      "  forecast_diciembre_2024['driverId'] = piloto  # Agregar el ID del piloto\n",
      "c:\\Users\\cris_\\anaconda3\\envs\\modelo_formula1\\lib\\site-packages\\prophet\\forecaster.py:1854: FutureWarning: 'M' is deprecated and will be removed in a future version, please use 'ME' instead.\n",
      "  dates = pd.date_range(\n",
      "20:40:33 - cmdstanpy - INFO - Chain [1] start processing\n"
     ]
    },
    {
     "name": "stdout",
     "output_type": "stream",
     "text": [
      "No hay predicciones para diciembre de 2024 para el piloto 845.\n"
     ]
    },
    {
     "name": "stderr",
     "output_type": "stream",
     "text": [
      "20:40:33 - cmdstanpy - INFO - Chain [1] done processing\n",
      "c:\\Users\\cris_\\anaconda3\\envs\\modelo_formula1\\lib\\site-packages\\prophet\\forecaster.py:1854: FutureWarning: 'M' is deprecated and will be removed in a future version, please use 'ME' instead.\n",
      "  dates = pd.date_range(\n",
      "C:\\Users\\cris_\\AppData\\Local\\Temp\\ipykernel_20800\\3974405335.py:65: SettingWithCopyWarning: \n",
      "A value is trying to be set on a copy of a slice from a DataFrame.\n",
      "Try using .loc[row_indexer,col_indexer] = value instead\n",
      "\n",
      "See the caveats in the documentation: https://pandas.pydata.org/pandas-docs/stable/user_guide/indexing.html#returning-a-view-versus-a-copy\n",
      "  forecast_diciembre_2024['driverId'] = piloto  # Agregar el ID del piloto\n",
      "20:40:34 - cmdstanpy - INFO - Chain [1] start processing\n",
      "20:40:34 - cmdstanpy - INFO - Chain [1] done processing\n",
      "c:\\Users\\cris_\\anaconda3\\envs\\modelo_formula1\\lib\\site-packages\\prophet\\forecaster.py:1854: FutureWarning: 'M' is deprecated and will be removed in a future version, please use 'ME' instead.\n",
      "  dates = pd.date_range(\n",
      "C:\\Users\\cris_\\AppData\\Local\\Temp\\ipykernel_20800\\3974405335.py:65: SettingWithCopyWarning: \n",
      "A value is trying to be set on a copy of a slice from a DataFrame.\n",
      "Try using .loc[row_indexer,col_indexer] = value instead\n",
      "\n",
      "See the caveats in the documentation: https://pandas.pydata.org/pandas-docs/stable/user_guide/indexing.html#returning-a-view-versus-a-copy\n",
      "  forecast_diciembre_2024['driverId'] = piloto  # Agregar el ID del piloto\n",
      "c:\\Users\\cris_\\anaconda3\\envs\\modelo_formula1\\lib\\site-packages\\prophet\\forecaster.py:1854: FutureWarning: 'M' is deprecated and will be removed in a future version, please use 'ME' instead.\n",
      "  dates = pd.date_range(\n",
      "C:\\Users\\cris_\\AppData\\Local\\Temp\\ipykernel_20800\\3974405335.py:65: SettingWithCopyWarning: \n",
      "A value is trying to be set on a copy of a slice from a DataFrame.\n",
      "Try using .loc[row_indexer,col_indexer] = value instead\n",
      "\n",
      "See the caveats in the documentation: https://pandas.pydata.org/pandas-docs/stable/user_guide/indexing.html#returning-a-view-versus-a-copy\n",
      "  forecast_diciembre_2024['driverId'] = piloto  # Agregar el ID del piloto\n",
      "c:\\Users\\cris_\\anaconda3\\envs\\modelo_formula1\\lib\\site-packages\\prophet\\forecaster.py:1854: FutureWarning: 'M' is deprecated and will be removed in a future version, please use 'ME' instead.\n",
      "  dates = pd.date_range(\n",
      "c:\\Users\\cris_\\anaconda3\\envs\\modelo_formula1\\lib\\site-packages\\prophet\\forecaster.py:1854: FutureWarning: 'M' is deprecated and will be removed in a future version, please use 'ME' instead.\n",
      "  dates = pd.date_range(\n",
      "C:\\Users\\cris_\\AppData\\Local\\Temp\\ipykernel_20800\\3974405335.py:65: SettingWithCopyWarning: \n",
      "A value is trying to be set on a copy of a slice from a DataFrame.\n",
      "Try using .loc[row_indexer,col_indexer] = value instead\n",
      "\n",
      "See the caveats in the documentation: https://pandas.pydata.org/pandas-docs/stable/user_guide/indexing.html#returning-a-view-versus-a-copy\n",
      "  forecast_diciembre_2024['driverId'] = piloto  # Agregar el ID del piloto\n"
     ]
    },
    {
     "name": "stdout",
     "output_type": "stream",
     "text": [
      "No hay predicciones para diciembre de 2024 para el piloto 849.\n",
      "Piloto 850 tiene menos de 2 registros válidos. Saltando este piloto.\n",
      "Piloto 851 tiene menos de 2 registros válidos. Saltando este piloto.\n"
     ]
    },
    {
     "name": "stderr",
     "output_type": "stream",
     "text": [
      "c:\\Users\\cris_\\anaconda3\\envs\\modelo_formula1\\lib\\site-packages\\prophet\\forecaster.py:1854: FutureWarning: 'M' is deprecated and will be removed in a future version, please use 'ME' instead.\n",
      "  dates = pd.date_range(\n",
      "c:\\Users\\cris_\\anaconda3\\envs\\modelo_formula1\\lib\\site-packages\\prophet\\forecaster.py:1854: FutureWarning: 'M' is deprecated and will be removed in a future version, please use 'ME' instead.\n",
      "  dates = pd.date_range(\n"
     ]
    },
    {
     "name": "stdout",
     "output_type": "stream",
     "text": [
      "No hay predicciones para diciembre de 2024 para el piloto 853.\n",
      "No hay predicciones para diciembre de 2024 para el piloto 854.\n"
     ]
    },
    {
     "name": "stderr",
     "output_type": "stream",
     "text": [
      "c:\\Users\\cris_\\anaconda3\\envs\\modelo_formula1\\lib\\site-packages\\prophet\\forecaster.py:1854: FutureWarning: 'M' is deprecated and will be removed in a future version, please use 'ME' instead.\n",
      "  dates = pd.date_range(\n",
      "C:\\Users\\cris_\\AppData\\Local\\Temp\\ipykernel_20800\\3974405335.py:65: SettingWithCopyWarning: \n",
      "A value is trying to be set on a copy of a slice from a DataFrame.\n",
      "Try using .loc[row_indexer,col_indexer] = value instead\n",
      "\n",
      "See the caveats in the documentation: https://pandas.pydata.org/pandas-docs/stable/user_guide/indexing.html#returning-a-view-versus-a-copy\n",
      "  forecast_diciembre_2024['driverId'] = piloto  # Agregar el ID del piloto\n",
      "c:\\Users\\cris_\\anaconda3\\envs\\modelo_formula1\\lib\\site-packages\\prophet\\forecaster.py:1854: FutureWarning: 'M' is deprecated and will be removed in a future version, please use 'ME' instead.\n",
      "  dates = pd.date_range(\n",
      "20:40:35 - cmdstanpy - INFO - Chain [1] start processing\n",
      "20:40:35 - cmdstanpy - INFO - Chain [1] done processing\n"
     ]
    },
    {
     "name": "stdout",
     "output_type": "stream",
     "text": [
      "No hay predicciones para diciembre de 2024 para el piloto 856.\n"
     ]
    },
    {
     "name": "stderr",
     "output_type": "stream",
     "text": [
      "c:\\Users\\cris_\\anaconda3\\envs\\modelo_formula1\\lib\\site-packages\\prophet\\forecaster.py:1854: FutureWarning: 'M' is deprecated and will be removed in a future version, please use 'ME' instead.\n",
      "  dates = pd.date_range(\n",
      "C:\\Users\\cris_\\AppData\\Local\\Temp\\ipykernel_20800\\3974405335.py:65: SettingWithCopyWarning: \n",
      "A value is trying to be set on a copy of a slice from a DataFrame.\n",
      "Try using .loc[row_indexer,col_indexer] = value instead\n",
      "\n",
      "See the caveats in the documentation: https://pandas.pydata.org/pandas-docs/stable/user_guide/indexing.html#returning-a-view-versus-a-copy\n",
      "  forecast_diciembre_2024['driverId'] = piloto  # Agregar el ID del piloto\n",
      "c:\\Users\\cris_\\anaconda3\\envs\\modelo_formula1\\lib\\site-packages\\prophet\\forecaster.py:1854: FutureWarning: 'M' is deprecated and will be removed in a future version, please use 'ME' instead.\n",
      "  dates = pd.date_range(\n",
      "C:\\Users\\cris_\\AppData\\Local\\Temp\\ipykernel_20800\\3974405335.py:65: SettingWithCopyWarning: \n",
      "A value is trying to be set on a copy of a slice from a DataFrame.\n",
      "Try using .loc[row_indexer,col_indexer] = value instead\n",
      "\n",
      "See the caveats in the documentation: https://pandas.pydata.org/pandas-docs/stable/user_guide/indexing.html#returning-a-view-versus-a-copy\n",
      "  forecast_diciembre_2024['driverId'] = piloto  # Agregar el ID del piloto\n",
      "c:\\Users\\cris_\\anaconda3\\envs\\modelo_formula1\\lib\\site-packages\\prophet\\forecaster.py:1854: FutureWarning: 'M' is deprecated and will be removed in a future version, please use 'ME' instead.\n",
      "  dates = pd.date_range(\n",
      "C:\\Users\\cris_\\AppData\\Local\\Temp\\ipykernel_20800\\3974405335.py:65: SettingWithCopyWarning: \n",
      "A value is trying to be set on a copy of a slice from a DataFrame.\n",
      "Try using .loc[row_indexer,col_indexer] = value instead\n",
      "\n",
      "See the caveats in the documentation: https://pandas.pydata.org/pandas-docs/stable/user_guide/indexing.html#returning-a-view-versus-a-copy\n",
      "  forecast_diciembre_2024['driverId'] = piloto  # Agregar el ID del piloto\n",
      "c:\\Users\\cris_\\anaconda3\\envs\\modelo_formula1\\lib\\site-packages\\prophet\\forecaster.py:1854: FutureWarning: 'M' is deprecated and will be removed in a future version, please use 'ME' instead.\n",
      "  dates = pd.date_range(\n",
      "C:\\Users\\cris_\\AppData\\Local\\Temp\\ipykernel_20800\\3974405335.py:65: SettingWithCopyWarning: \n",
      "A value is trying to be set on a copy of a slice from a DataFrame.\n",
      "Try using .loc[row_indexer,col_indexer] = value instead\n",
      "\n",
      "See the caveats in the documentation: https://pandas.pydata.org/pandas-docs/stable/user_guide/indexing.html#returning-a-view-versus-a-copy\n",
      "  forecast_diciembre_2024['driverId'] = piloto  # Agregar el ID del piloto\n",
      "c:\\Users\\cris_\\anaconda3\\envs\\modelo_formula1\\lib\\site-packages\\prophet\\forecaster.py:1854: FutureWarning: 'M' is deprecated and will be removed in a future version, please use 'ME' instead.\n",
      "  dates = pd.date_range(\n",
      "C:\\Users\\cris_\\AppData\\Local\\Temp\\ipykernel_20800\\3974405335.py:65: SettingWithCopyWarning: \n",
      "A value is trying to be set on a copy of a slice from a DataFrame.\n",
      "Try using .loc[row_indexer,col_indexer] = value instead\n",
      "\n",
      "See the caveats in the documentation: https://pandas.pydata.org/pandas-docs/stable/user_guide/indexing.html#returning-a-view-versus-a-copy\n",
      "  forecast_diciembre_2024['driverId'] = piloto  # Agregar el ID del piloto\n"
     ]
    }
   ],
   "source": [
    "# Diccionario para almacenar modelos y predicciones por piloto\n",
    "modelos = {}\n",
    "resultados_predicciones = []\n",
    "\n",
    "# Iterar sobre cada piloto\n",
    "for piloto in df['driverId'].unique():\n",
    "    # Filtrar datos para el piloto actual\n",
    "    df_piloto = df[df['driverId'] == piloto][['ds', 'prob_ganar', \n",
    "                                               'fastest_lap', 'driver_points', 'completed_laps',\n",
    "                                               'fastest_lap_speed', 'qualifying_position',\n",
    "                                               'driver_standing_points', 'constructor_points', 'constructor_wins']]\n",
    "    \n",
    "    # Renombrar 'prob_ganar' a 'y' para Prophet\n",
    "    df_piloto = df_piloto.rename(columns={'prob_ganar': 'y'})\n",
    "    \n",
    "    # Verificar si hay al menos 2 filas no nulas en la columna 'y'\n",
    "    if df_piloto['y'].notnull().sum() < 2:\n",
    "        print(f\"Piloto {piloto} tiene menos de 2 registros válidos. Saltando este piloto.\")\n",
    "        continue  # Saltar al siguiente piloto\n",
    "    \n",
    "    # Crear y configurar el modelo Prophet con regresores\n",
    "    modelo = Prophet()\n",
    "    modelo.add_regressor('fastest_lap')\n",
    "    modelo.add_regressor('driver_points')\n",
    "    modelo.add_regressor('completed_laps')\n",
    "    modelo.add_regressor('fastest_lap_speed')\n",
    "    modelo.add_regressor('qualifying_position')\n",
    "    modelo.add_regressor('driver_standing_points')\n",
    "    modelo.add_regressor('constructor_points')\n",
    "    modelo.add_regressor('constructor_wins')\n",
    "    \n",
    "    # Entrenar el modelo\n",
    "    modelo.fit(df_piloto)\n",
    "    modelos[piloto] = modelo\n",
    "    \n",
    "    # Crear un DataFrame de fechas futuras hasta diciembre de 2024\n",
    "    future = modelo.make_future_dataframe(periods=12, freq='M')\n",
    "    future = future[future['ds'] <= '2024-12-31']\n",
    "    \n",
    "    # Añadir los valores de los regresores al DataFrame de fechas futuras\n",
    "    future = future.merge(df_piloto[['ds', 'fastest_lap', 'driver_points', 'completed_laps',\n",
    "                                     'fastest_lap_speed', 'qualifying_position',\n",
    "                                     'driver_standing_points', 'constructor_points', 'constructor_wins']],\n",
    "                          on='ds', how='left')\n",
    "    \n",
    "    # Rellenar nuevamente los valores nulos después del merge\n",
    "    future = future.fillna(df_piloto.median(numeric_only=True))\n",
    "    \n",
    "    # Verificación adicional para confirmar que no haya valores nulos en future\n",
    "    if future.isnull().values.any():\n",
    "        print(f\"Valores NaN encontrados en 'future' para piloto {piloto}. Saltando este piloto.\")\n",
    "        continue  # Saltar al siguiente piloto\n",
    "    \n",
    "    # Generar predicciones para el futuro\n",
    "    forecast = modelo.predict(future)\n",
    "    \n",
    "    # Filtrar solo las predicciones para diciembre de 2024 usando mes y año\n",
    "    forecast_diciembre_2024 = forecast[(forecast['ds'].dt.year == 2024) & (forecast['ds'].dt.month == 12)]\n",
    "    \n",
    "    # Verificar si hay predicciones para diciembre de 2024\n",
    "    if forecast_diciembre_2024.empty:\n",
    "        print(f\"No hay predicciones para diciembre de 2024 para el piloto {piloto}.\")\n",
    "        continue\n",
    "    \n",
    "    forecast_diciembre_2024['driverId'] = piloto  # Agregar el ID del piloto\n",
    "    \n",
    "    # Guardar la predicción en la lista de resultados\n",
    "    resultados_predicciones.append(forecast_diciembre_2024[['ds', 'yhat', 'driverId']])\n",
    "\n",
    "# Combinar todas las predicciones en un solo DataFrame y ordenar por probabilidad de ganar\n",
    "predicciones_totales = pd.concat(resultados_predicciones, ignore_index=True)\n",
    "predicciones_totales = predicciones_totales.sort_values(by='yhat', ascending=False).reset_index(drop=True)\n"
   ]
  },
  {
   "cell_type": "code",
   "execution_count": 137,
   "metadata": {},
   "outputs": [],
   "source": [
    "# Aplicar transformación sigmoide para convertir yhat en probabilidad\n",
    "predicciones_totales['probabilidad_ganar'] = 1 / (1 + np.exp(-predicciones_totales['yhat']))\n",
    "predicciones_totales['probabilidad_ganar'] = predicciones_totales['probabilidad_ganar'].round(3)\n",
    "# Ordenar por probabilidad de ganar y mostrar el resultado\n",
    "predicciones_totales = predicciones_totales.sort_values(by='probabilidad_ganar', ascending=False).reset_index(drop=True)"
   ]
  },
  {
   "cell_type": "code",
   "execution_count": 138,
   "metadata": {},
   "outputs": [
    {
     "data": {
      "text/html": [
       "<div>\n",
       "<style scoped>\n",
       "    .dataframe tbody tr th:only-of-type {\n",
       "        vertical-align: middle;\n",
       "    }\n",
       "\n",
       "    .dataframe tbody tr th {\n",
       "        vertical-align: top;\n",
       "    }\n",
       "\n",
       "    .dataframe thead th {\n",
       "        text-align: right;\n",
       "    }\n",
       "</style>\n",
       "<table border=\"1\" class=\"dataframe\">\n",
       "  <thead>\n",
       "    <tr style=\"text-align: right;\">\n",
       "      <th></th>\n",
       "      <th>ds</th>\n",
       "      <th>yhat</th>\n",
       "      <th>driverId</th>\n",
       "      <th>probabilidad_ganar</th>\n",
       "    </tr>\n",
       "  </thead>\n",
       "  <tbody>\n",
       "    <tr>\n",
       "      <th>0</th>\n",
       "      <td>2024-12-31</td>\n",
       "      <td>5.140886</td>\n",
       "      <td>846</td>\n",
       "      <td>0.994</td>\n",
       "    </tr>\n",
       "    <tr>\n",
       "      <th>1</th>\n",
       "      <td>2024-12-31</td>\n",
       "      <td>4.426892</td>\n",
       "      <td>844</td>\n",
       "      <td>0.988</td>\n",
       "    </tr>\n",
       "    <tr>\n",
       "      <th>2</th>\n",
       "      <td>2024-12-31</td>\n",
       "      <td>2.271836</td>\n",
       "      <td>839</td>\n",
       "      <td>0.907</td>\n",
       "    </tr>\n",
       "    <tr>\n",
       "      <th>3</th>\n",
       "      <td>2024-12-31</td>\n",
       "      <td>0.843665</td>\n",
       "      <td>847</td>\n",
       "      <td>0.699</td>\n",
       "    </tr>\n",
       "    <tr>\n",
       "      <th>4</th>\n",
       "      <td>2024-12-31</td>\n",
       "      <td>0.070796</td>\n",
       "      <td>1</td>\n",
       "      <td>0.518</td>\n",
       "    </tr>\n",
       "    <tr>\n",
       "      <th>5</th>\n",
       "      <td>2024-12-31</td>\n",
       "      <td>0.000000</td>\n",
       "      <td>848</td>\n",
       "      <td>0.500</td>\n",
       "    </tr>\n",
       "    <tr>\n",
       "      <th>6</th>\n",
       "      <td>2024-12-31</td>\n",
       "      <td>-0.001661</td>\n",
       "      <td>817</td>\n",
       "      <td>0.500</td>\n",
       "    </tr>\n",
       "    <tr>\n",
       "      <th>7</th>\n",
       "      <td>2024-12-31</td>\n",
       "      <td>0.000000</td>\n",
       "      <td>807</td>\n",
       "      <td>0.500</td>\n",
       "    </tr>\n",
       "    <tr>\n",
       "      <th>8</th>\n",
       "      <td>2024-12-31</td>\n",
       "      <td>0.000000</td>\n",
       "      <td>825</td>\n",
       "      <td>0.500</td>\n",
       "    </tr>\n",
       "    <tr>\n",
       "      <th>9</th>\n",
       "      <td>2024-12-31</td>\n",
       "      <td>0.000000</td>\n",
       "      <td>840</td>\n",
       "      <td>0.500</td>\n",
       "    </tr>\n",
       "    <tr>\n",
       "      <th>10</th>\n",
       "      <td>2024-12-31</td>\n",
       "      <td>0.000000</td>\n",
       "      <td>861</td>\n",
       "      <td>0.500</td>\n",
       "    </tr>\n",
       "    <tr>\n",
       "      <th>11</th>\n",
       "      <td>2024-12-31</td>\n",
       "      <td>0.000000</td>\n",
       "      <td>852</td>\n",
       "      <td>0.500</td>\n",
       "    </tr>\n",
       "    <tr>\n",
       "      <th>12</th>\n",
       "      <td>2024-12-31</td>\n",
       "      <td>0.000000</td>\n",
       "      <td>855</td>\n",
       "      <td>0.500</td>\n",
       "    </tr>\n",
       "    <tr>\n",
       "      <th>13</th>\n",
       "      <td>2024-12-31</td>\n",
       "      <td>0.000000</td>\n",
       "      <td>858</td>\n",
       "      <td>0.500</td>\n",
       "    </tr>\n",
       "    <tr>\n",
       "      <th>14</th>\n",
       "      <td>2024-12-31</td>\n",
       "      <td>0.000000</td>\n",
       "      <td>859</td>\n",
       "      <td>0.500</td>\n",
       "    </tr>\n",
       "    <tr>\n",
       "      <th>15</th>\n",
       "      <td>2024-12-31</td>\n",
       "      <td>0.000000</td>\n",
       "      <td>860</td>\n",
       "      <td>0.500</td>\n",
       "    </tr>\n",
       "    <tr>\n",
       "      <th>16</th>\n",
       "      <td>2024-12-31</td>\n",
       "      <td>-0.007699</td>\n",
       "      <td>822</td>\n",
       "      <td>0.498</td>\n",
       "    </tr>\n",
       "    <tr>\n",
       "      <th>17</th>\n",
       "      <td>2024-12-31</td>\n",
       "      <td>-0.008576</td>\n",
       "      <td>815</td>\n",
       "      <td>0.498</td>\n",
       "    </tr>\n",
       "    <tr>\n",
       "      <th>18</th>\n",
       "      <td>2024-12-31</td>\n",
       "      <td>-0.039249</td>\n",
       "      <td>857</td>\n",
       "      <td>0.490</td>\n",
       "    </tr>\n",
       "    <tr>\n",
       "      <th>19</th>\n",
       "      <td>2024-12-31</td>\n",
       "      <td>-0.079529</td>\n",
       "      <td>4</td>\n",
       "      <td>0.480</td>\n",
       "    </tr>\n",
       "    <tr>\n",
       "      <th>20</th>\n",
       "      <td>2024-12-31</td>\n",
       "      <td>-1.308449</td>\n",
       "      <td>842</td>\n",
       "      <td>0.213</td>\n",
       "    </tr>\n",
       "    <tr>\n",
       "      <th>21</th>\n",
       "      <td>2024-12-31</td>\n",
       "      <td>-6.650734</td>\n",
       "      <td>832</td>\n",
       "      <td>0.001</td>\n",
       "    </tr>\n",
       "    <tr>\n",
       "      <th>22</th>\n",
       "      <td>2024-12-31</td>\n",
       "      <td>-18.097690</td>\n",
       "      <td>830</td>\n",
       "      <td>0.000</td>\n",
       "    </tr>\n",
       "  </tbody>\n",
       "</table>\n",
       "</div>"
      ],
      "text/plain": [
       "           ds       yhat  driverId  probabilidad_ganar\n",
       "0  2024-12-31   5.140886       846               0.994\n",
       "1  2024-12-31   4.426892       844               0.988\n",
       "2  2024-12-31   2.271836       839               0.907\n",
       "3  2024-12-31   0.843665       847               0.699\n",
       "4  2024-12-31   0.070796         1               0.518\n",
       "5  2024-12-31   0.000000       848               0.500\n",
       "6  2024-12-31  -0.001661       817               0.500\n",
       "7  2024-12-31   0.000000       807               0.500\n",
       "8  2024-12-31   0.000000       825               0.500\n",
       "9  2024-12-31   0.000000       840               0.500\n",
       "10 2024-12-31   0.000000       861               0.500\n",
       "11 2024-12-31   0.000000       852               0.500\n",
       "12 2024-12-31   0.000000       855               0.500\n",
       "13 2024-12-31   0.000000       858               0.500\n",
       "14 2024-12-31   0.000000       859               0.500\n",
       "15 2024-12-31   0.000000       860               0.500\n",
       "16 2024-12-31  -0.007699       822               0.498\n",
       "17 2024-12-31  -0.008576       815               0.498\n",
       "18 2024-12-31  -0.039249       857               0.490\n",
       "19 2024-12-31  -0.079529         4               0.480\n",
       "20 2024-12-31  -1.308449       842               0.213\n",
       "21 2024-12-31  -6.650734       832               0.001\n",
       "22 2024-12-31 -18.097690       830               0.000"
      ]
     },
     "execution_count": 138,
     "metadata": {},
     "output_type": "execute_result"
    }
   ],
   "source": [
    "predicciones_totales"
   ]
  },
  {
   "cell_type": "markdown",
   "metadata": {},
   "source": [
    "### Asignación de nombres"
   ]
  },
  {
   "cell_type": "code",
   "execution_count": 144,
   "metadata": {},
   "outputs": [],
   "source": [
    "import mysql.connector"
   ]
  },
  {
   "cell_type": "code",
   "execution_count": 145,
   "metadata": {},
   "outputs": [],
   "source": [
    "# Conexión a la base de datos MySQL\n",
    "conn = mysql.connector.connect(\n",
    "    host='localhost',       # Dirección del servidor MySQL (puede ser localhost si es local)\n",
    "    user='root',            # Usuario de MySQL (ajusta según tu configuración)\n",
    "    password='Ringochunin1302',  # Contraseña de MySQL\n",
    "    database='ergast_f1'    # Nombre de la base de datos\n",
    ")\n",
    "\n",
    "\n",
    "# Crear un cursor para ejecutar la consulta\n",
    "cursor = conn.cursor()"
   ]
  },
  {
   "cell_type": "code",
   "execution_count": 146,
   "metadata": {},
   "outputs": [],
   "source": [
    "# Ejecutar la consulta para obtener los años disponibles\n",
    "query = \"\"\"\n",
    "SELECT \n",
    "    d.driverId,\n",
    "    d.forename AS driver_first_name,\n",
    "    d.surname AS driver_last_name,\n",
    "    c.constructorId,\n",
    "    c.name AS constructor_name\n",
    "FROM \n",
    "    drivers d\n",
    "JOIN \n",
    "    results r ON d.driverId = r.driverId\n",
    "JOIN \n",
    "    constructors c ON r.constructorId = c.constructorId\n",
    "JOIN \n",
    "    races ra ON r.raceId = ra.raceId\n",
    "WHERE \n",
    "    ra.year = (SELECT MAX(year) FROM races)  -- Filtrar para el año más reciente\n",
    "GROUP BY \n",
    "    d.driverId, d.forename, d.surname, c.constructorId, c.name\n",
    "ORDER BY \n",
    "    d.driverId;\n",
    "\n",
    "\"\"\"\n"
   ]
  },
  {
   "cell_type": "code",
   "execution_count": 147,
   "metadata": {},
   "outputs": [
    {
     "name": "stdout",
     "output_type": "stream",
     "text": [
      "CPU times: total: 0 ns\n",
      "Wall time: 584 ms\n"
     ]
    }
   ],
   "source": [
    "%%time\n",
    "cursor.execute(query)\n",
    "\n",
    "# Obtener los resultados y convertirlos en un DataFrame de pandas\n",
    "result = cursor.fetchall()\n",
    "\n",
    "# Obtener los nombres de las columnas\n",
    "columns = [i[0] for i in cursor.description]\n",
    "\n",
    "# Convertir los resultados en un DataFrame\n",
    "df_names = pd.DataFrame(result, columns=columns)\n",
    "\n",
    "# Cerrar el cursor y la conexión\n",
    "cursor.close()\n",
    "conn.close()"
   ]
  },
  {
   "cell_type": "code",
   "execution_count": 154,
   "metadata": {},
   "outputs": [],
   "source": [
    "df_names['name'] = df_names.driver_first_name + ' ' + df_names.driver_last_name + ' - ' + df_names.constructor_name"
   ]
  },
  {
   "cell_type": "code",
   "execution_count": 156,
   "metadata": {},
   "outputs": [
    {
     "data": {
      "text/html": [
       "<div>\n",
       "<style scoped>\n",
       "    .dataframe tbody tr th:only-of-type {\n",
       "        vertical-align: middle;\n",
       "    }\n",
       "\n",
       "    .dataframe tbody tr th {\n",
       "        vertical-align: top;\n",
       "    }\n",
       "\n",
       "    .dataframe thead th {\n",
       "        text-align: right;\n",
       "    }\n",
       "</style>\n",
       "<table border=\"1\" class=\"dataframe\">\n",
       "  <thead>\n",
       "    <tr style=\"text-align: right;\">\n",
       "      <th></th>\n",
       "      <th>driverId</th>\n",
       "      <th>driver_first_name</th>\n",
       "      <th>driver_last_name</th>\n",
       "      <th>constructorId</th>\n",
       "      <th>constructor_name</th>\n",
       "      <th>name</th>\n",
       "    </tr>\n",
       "  </thead>\n",
       "  <tbody>\n",
       "    <tr>\n",
       "      <th>0</th>\n",
       "      <td>1</td>\n",
       "      <td>Lewis</td>\n",
       "      <td>Hamilton</td>\n",
       "      <td>131</td>\n",
       "      <td>Mercedes</td>\n",
       "      <td>Lewis Hamilton - Mercedes</td>\n",
       "    </tr>\n",
       "    <tr>\n",
       "      <th>1</th>\n",
       "      <td>4</td>\n",
       "      <td>Fernando</td>\n",
       "      <td>Alonso</td>\n",
       "      <td>117</td>\n",
       "      <td>Aston Martin</td>\n",
       "      <td>Fernando Alonso - Aston Martin</td>\n",
       "    </tr>\n",
       "    <tr>\n",
       "      <th>2</th>\n",
       "      <td>807</td>\n",
       "      <td>Nico</td>\n",
       "      <td>Hülkenberg</td>\n",
       "      <td>210</td>\n",
       "      <td>Haas F1 Team</td>\n",
       "      <td>Nico Hülkenberg - Haas F1 Team</td>\n",
       "    </tr>\n",
       "    <tr>\n",
       "      <th>3</th>\n",
       "      <td>815</td>\n",
       "      <td>Sergio</td>\n",
       "      <td>Pérez</td>\n",
       "      <td>9</td>\n",
       "      <td>Red Bull</td>\n",
       "      <td>Sergio Pérez - Red Bull</td>\n",
       "    </tr>\n",
       "    <tr>\n",
       "      <th>4</th>\n",
       "      <td>817</td>\n",
       "      <td>Daniel</td>\n",
       "      <td>Ricciardo</td>\n",
       "      <td>215</td>\n",
       "      <td>RB F1 Team</td>\n",
       "      <td>Daniel Ricciardo - RB F1 Team</td>\n",
       "    </tr>\n",
       "    <tr>\n",
       "      <th>5</th>\n",
       "      <td>822</td>\n",
       "      <td>Valtteri</td>\n",
       "      <td>Bottas</td>\n",
       "      <td>15</td>\n",
       "      <td>Sauber</td>\n",
       "      <td>Valtteri Bottas - Sauber</td>\n",
       "    </tr>\n",
       "    <tr>\n",
       "      <th>6</th>\n",
       "      <td>825</td>\n",
       "      <td>Kevin</td>\n",
       "      <td>Magnussen</td>\n",
       "      <td>210</td>\n",
       "      <td>Haas F1 Team</td>\n",
       "      <td>Kevin Magnussen - Haas F1 Team</td>\n",
       "    </tr>\n",
       "    <tr>\n",
       "      <th>7</th>\n",
       "      <td>830</td>\n",
       "      <td>Max</td>\n",
       "      <td>Verstappen</td>\n",
       "      <td>9</td>\n",
       "      <td>Red Bull</td>\n",
       "      <td>Max Verstappen - Red Bull</td>\n",
       "    </tr>\n",
       "    <tr>\n",
       "      <th>8</th>\n",
       "      <td>832</td>\n",
       "      <td>Carlos</td>\n",
       "      <td>Sainz</td>\n",
       "      <td>6</td>\n",
       "      <td>Ferrari</td>\n",
       "      <td>Carlos Sainz - Ferrari</td>\n",
       "    </tr>\n",
       "    <tr>\n",
       "      <th>9</th>\n",
       "      <td>839</td>\n",
       "      <td>Esteban</td>\n",
       "      <td>Ocon</td>\n",
       "      <td>214</td>\n",
       "      <td>Alpine F1 Team</td>\n",
       "      <td>Esteban Ocon - Alpine F1 Team</td>\n",
       "    </tr>\n",
       "    <tr>\n",
       "      <th>10</th>\n",
       "      <td>840</td>\n",
       "      <td>Lance</td>\n",
       "      <td>Stroll</td>\n",
       "      <td>117</td>\n",
       "      <td>Aston Martin</td>\n",
       "      <td>Lance Stroll - Aston Martin</td>\n",
       "    </tr>\n",
       "    <tr>\n",
       "      <th>11</th>\n",
       "      <td>842</td>\n",
       "      <td>Pierre</td>\n",
       "      <td>Gasly</td>\n",
       "      <td>214</td>\n",
       "      <td>Alpine F1 Team</td>\n",
       "      <td>Pierre Gasly - Alpine F1 Team</td>\n",
       "    </tr>\n",
       "    <tr>\n",
       "      <th>12</th>\n",
       "      <td>844</td>\n",
       "      <td>Charles</td>\n",
       "      <td>Leclerc</td>\n",
       "      <td>6</td>\n",
       "      <td>Ferrari</td>\n",
       "      <td>Charles Leclerc - Ferrari</td>\n",
       "    </tr>\n",
       "    <tr>\n",
       "      <th>13</th>\n",
       "      <td>846</td>\n",
       "      <td>Lando</td>\n",
       "      <td>Norris</td>\n",
       "      <td>1</td>\n",
       "      <td>McLaren</td>\n",
       "      <td>Lando Norris - McLaren</td>\n",
       "    </tr>\n",
       "    <tr>\n",
       "      <th>14</th>\n",
       "      <td>847</td>\n",
       "      <td>George</td>\n",
       "      <td>Russell</td>\n",
       "      <td>131</td>\n",
       "      <td>Mercedes</td>\n",
       "      <td>George Russell - Mercedes</td>\n",
       "    </tr>\n",
       "    <tr>\n",
       "      <th>15</th>\n",
       "      <td>848</td>\n",
       "      <td>Alexander</td>\n",
       "      <td>Albon</td>\n",
       "      <td>3</td>\n",
       "      <td>Williams</td>\n",
       "      <td>Alexander Albon - Williams</td>\n",
       "    </tr>\n",
       "    <tr>\n",
       "      <th>16</th>\n",
       "      <td>852</td>\n",
       "      <td>Yuki</td>\n",
       "      <td>Tsunoda</td>\n",
       "      <td>215</td>\n",
       "      <td>RB F1 Team</td>\n",
       "      <td>Yuki Tsunoda - RB F1 Team</td>\n",
       "    </tr>\n",
       "    <tr>\n",
       "      <th>17</th>\n",
       "      <td>855</td>\n",
       "      <td>Guanyu</td>\n",
       "      <td>Zhou</td>\n",
       "      <td>15</td>\n",
       "      <td>Sauber</td>\n",
       "      <td>Guanyu Zhou - Sauber</td>\n",
       "    </tr>\n",
       "    <tr>\n",
       "      <th>18</th>\n",
       "      <td>857</td>\n",
       "      <td>Oscar</td>\n",
       "      <td>Piastri</td>\n",
       "      <td>1</td>\n",
       "      <td>McLaren</td>\n",
       "      <td>Oscar Piastri - McLaren</td>\n",
       "    </tr>\n",
       "    <tr>\n",
       "      <th>19</th>\n",
       "      <td>858</td>\n",
       "      <td>Logan</td>\n",
       "      <td>Sargeant</td>\n",
       "      <td>3</td>\n",
       "      <td>Williams</td>\n",
       "      <td>Logan Sargeant - Williams</td>\n",
       "    </tr>\n",
       "    <tr>\n",
       "      <th>20</th>\n",
       "      <td>859</td>\n",
       "      <td>Liam</td>\n",
       "      <td>Lawson</td>\n",
       "      <td>215</td>\n",
       "      <td>RB F1 Team</td>\n",
       "      <td>Liam Lawson - RB F1 Team</td>\n",
       "    </tr>\n",
       "    <tr>\n",
       "      <th>21</th>\n",
       "      <td>860</td>\n",
       "      <td>Oliver</td>\n",
       "      <td>Bearman</td>\n",
       "      <td>6</td>\n",
       "      <td>Ferrari</td>\n",
       "      <td>Oliver Bearman - Ferrari</td>\n",
       "    </tr>\n",
       "    <tr>\n",
       "      <th>22</th>\n",
       "      <td>860</td>\n",
       "      <td>Oliver</td>\n",
       "      <td>Bearman</td>\n",
       "      <td>210</td>\n",
       "      <td>Haas F1 Team</td>\n",
       "      <td>Oliver Bearman - Haas F1 Team</td>\n",
       "    </tr>\n",
       "    <tr>\n",
       "      <th>23</th>\n",
       "      <td>861</td>\n",
       "      <td>Franco</td>\n",
       "      <td>Colapinto</td>\n",
       "      <td>3</td>\n",
       "      <td>Williams</td>\n",
       "      <td>Franco Colapinto - Williams</td>\n",
       "    </tr>\n",
       "  </tbody>\n",
       "</table>\n",
       "</div>"
      ],
      "text/plain": [
       "    driverId driver_first_name driver_last_name  constructorId  \\\n",
       "0          1             Lewis         Hamilton            131   \n",
       "1          4          Fernando           Alonso            117   \n",
       "2        807              Nico       Hülkenberg            210   \n",
       "3        815            Sergio            Pérez              9   \n",
       "4        817            Daniel        Ricciardo            215   \n",
       "5        822          Valtteri           Bottas             15   \n",
       "6        825             Kevin        Magnussen            210   \n",
       "7        830               Max       Verstappen              9   \n",
       "8        832            Carlos            Sainz              6   \n",
       "9        839           Esteban             Ocon            214   \n",
       "10       840             Lance           Stroll            117   \n",
       "11       842            Pierre            Gasly            214   \n",
       "12       844           Charles          Leclerc              6   \n",
       "13       846             Lando           Norris              1   \n",
       "14       847            George          Russell            131   \n",
       "15       848         Alexander            Albon              3   \n",
       "16       852              Yuki          Tsunoda            215   \n",
       "17       855            Guanyu             Zhou             15   \n",
       "18       857             Oscar          Piastri              1   \n",
       "19       858             Logan         Sargeant              3   \n",
       "20       859              Liam           Lawson            215   \n",
       "21       860            Oliver          Bearman              6   \n",
       "22       860            Oliver          Bearman            210   \n",
       "23       861            Franco        Colapinto              3   \n",
       "\n",
       "   constructor_name                            name  \n",
       "0          Mercedes       Lewis Hamilton - Mercedes  \n",
       "1      Aston Martin  Fernando Alonso - Aston Martin  \n",
       "2      Haas F1 Team  Nico Hülkenberg - Haas F1 Team  \n",
       "3          Red Bull         Sergio Pérez - Red Bull  \n",
       "4        RB F1 Team   Daniel Ricciardo - RB F1 Team  \n",
       "5            Sauber        Valtteri Bottas - Sauber  \n",
       "6      Haas F1 Team  Kevin Magnussen - Haas F1 Team  \n",
       "7          Red Bull       Max Verstappen - Red Bull  \n",
       "8           Ferrari          Carlos Sainz - Ferrari  \n",
       "9    Alpine F1 Team   Esteban Ocon - Alpine F1 Team  \n",
       "10     Aston Martin     Lance Stroll - Aston Martin  \n",
       "11   Alpine F1 Team   Pierre Gasly - Alpine F1 Team  \n",
       "12          Ferrari       Charles Leclerc - Ferrari  \n",
       "13          McLaren          Lando Norris - McLaren  \n",
       "14         Mercedes       George Russell - Mercedes  \n",
       "15         Williams      Alexander Albon - Williams  \n",
       "16       RB F1 Team       Yuki Tsunoda - RB F1 Team  \n",
       "17           Sauber            Guanyu Zhou - Sauber  \n",
       "18          McLaren         Oscar Piastri - McLaren  \n",
       "19         Williams       Logan Sargeant - Williams  \n",
       "20       RB F1 Team        Liam Lawson - RB F1 Team  \n",
       "21          Ferrari        Oliver Bearman - Ferrari  \n",
       "22     Haas F1 Team   Oliver Bearman - Haas F1 Team  \n",
       "23         Williams     Franco Colapinto - Williams  "
      ]
     },
     "execution_count": 156,
     "metadata": {},
     "output_type": "execute_result"
    }
   ],
   "source": [
    "df_names"
   ]
  },
  {
   "cell_type": "code",
   "execution_count": 162,
   "metadata": {},
   "outputs": [],
   "source": [
    "df_prediction = pd.merge(predicciones_totales,df_names[['driverId','name']],how = 'left', on='driverId')[['name','probabilidad_ganar']]"
   ]
  },
  {
   "cell_type": "code",
   "execution_count": 163,
   "metadata": {},
   "outputs": [],
   "source": [
    "# Usar doble barra invertida en la ruta\n",
    "df_prediction.to_csv(\"D:\\\\visualization\\\\formula1\\\\data\\\\processed\\\\df_prediction.csv\", index=False)"
   ]
  },
  {
   "cell_type": "code",
   "execution_count": null,
   "metadata": {},
   "outputs": [],
   "source": []
  }
 ],
 "metadata": {
  "kernelspec": {
   "display_name": "modelo_formula1",
   "language": "python",
   "name": "python3"
  },
  "language_info": {
   "codemirror_mode": {
    "name": "ipython",
    "version": 3
   },
   "file_extension": ".py",
   "mimetype": "text/x-python",
   "name": "python",
   "nbconvert_exporter": "python",
   "pygments_lexer": "ipython3",
   "version": "3.9.20"
  }
 },
 "nbformat": 4,
 "nbformat_minor": 2
}
