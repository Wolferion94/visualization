{
 "cells": [
  {
   "cell_type": "code",
   "execution_count": 3,
   "metadata": {},
   "outputs": [],
   "source": [
    "from jinja2 import Environment, FileSystemLoader\n",
    "import pandas as pd"
   ]
  },
  {
   "cell_type": "code",
   "execution_count": 4,
   "metadata": {},
   "outputs": [],
   "source": [
    "import pandas as pd\n",
    "\n",
    "# Ejemplo de DataFrame con los resultados del modelo\n",
    "data = {\n",
    "    'driverId': ['DR001', 'DR002', 'DR003', 'DR004'],\n",
    "    'probability': [0.85, 0.65, 0.45, 0.30]\n",
    "}\n",
    "df_prob = pd.DataFrame(data)\n",
    "\n",
    "# Agregar una posición calculada (normalizada para su uso en CSS)\n",
    "df_prob['position'] = df_prob.index / len(df_prob)\n",
    "\n",
    "# Convertimos el DataFrame a un diccionario para pasarlo a Jinja2\n",
    "conductores = df_prob.to_dict(orient='records')\n",
    "\n",
    "# Aquí renderizas tu plantilla\n",
    "# Ejemplo usando Jinja2 para renderizar\n",
    "from jinja2 import Environment, FileSystemLoader\n",
    "\n",
    "env = Environment(loader=FileSystemLoader('.'))\n",
    "template = env.get_template('template_f1.html')\n",
    "\n",
    "# Renderiza la plantilla con los datos calculados\n",
    "output = template.render(data=conductores)\n",
    "\n",
    "with open('f1_probabilidades.html', 'w') as f:\n",
    "    f.write(output)\n"
   ]
  },
  {
   "cell_type": "markdown",
   "metadata": {},
   "source": [
    "## Versión estable"
   ]
  },
  {
   "cell_type": "code",
   "execution_count": 12,
   "metadata": {},
   "outputs": [],
   "source": [
    "import pandas as pd\n",
    "\n",
    "# Ejemplo de DataFrame con los resultados del modelo\n",
    "data = {\n",
    "    'driverId': ['DR001', 'DR002', 'DR003', 'DR004'],\n",
    "    'probability': [0.85, 0.65, 0.45, 0.30]\n",
    "}\n",
    "df_prob = pd.DataFrame(data)\n",
    "\n",
    "# Agregar una posición calculada (normalizada para su uso en CSS)\n",
    "df_prob['position'] = (len(df_prob) - df_prob.index) / len(df_prob)\n",
    "\n",
    "# Verificar si hay menos de 10 filas y agregar conductores ficticios si es necesario\n",
    "while len(df_prob) < 10:\n",
    "    # Crear un DataFrame con una fila adicional ficticia\n",
    "    new_row = pd.DataFrame({\n",
    "        'driverId': [f'DR00{len(df_prob)+1}'],  # ID ficticio\n",
    "        'probability': [0.0],  # Probabilidad mínima\n",
    "        'position': [(len(df_prob) + 1) / 10]  # Posición normalizada inversa\n",
    "    })\n",
    "    \n",
    "    # Añadir la nueva fila al DataFrame original usando pd.concat()\n",
    "    df_prob = pd.concat([df_prob, new_row], ignore_index=True)\n",
    "\n",
    "# Convertimos el DataFrame a un diccionario para pasarlo a Jinja2\n",
    "conductores = df_prob.to_dict(orient='records')\n",
    "\n",
    "# Aquí renderizas tu plantilla\n",
    "from jinja2 import Environment, FileSystemLoader\n",
    "\n",
    "env = Environment(loader=FileSystemLoader('.'))\n",
    "template = env.get_template('template_f1.html')\n",
    "\n",
    "# Renderiza la plantilla con los datos calculados\n",
    "output = template.render(data=conductores)\n",
    "\n",
    "with open('f1_probabilidades.html', 'w') as f:\n",
    "    f.write(output)\n"
   ]
  },
  {
   "cell_type": "markdown",
   "metadata": {},
   "source": [
    "## Estable 2"
   ]
  },
  {
   "cell_type": "code",
   "execution_count": 9,
   "metadata": {},
   "outputs": [],
   "source": [
    "import pandas as pd"
   ]
  },
  {
   "cell_type": "code",
   "execution_count": 69,
   "metadata": {},
   "outputs": [],
   "source": [
    "df_prediction = pd.read_csv(\"D:\\\\visualization\\\\formula1\\\\data\\\\processed\\\\df_prediction.csv\")"
   ]
  },
  {
   "cell_type": "code",
   "execution_count": 70,
   "metadata": {},
   "outputs": [],
   "source": [
    "df_prediction = df_prediction.head(10)"
   ]
  },
  {
   "cell_type": "code",
   "execution_count": 76,
   "metadata": {},
   "outputs": [],
   "source": [
    "import pandas as pd\n",
    "from jinja2 import Environment, FileSystemLoader\n",
    "\n",
    "# Renombrar columnas para que coincidan con el resto del código\n",
    "df_prediction.rename(columns={'name': 'driverId', 'probabilidad_ganar': 'probability'}, inplace=True)\n",
    "\n",
    "# Calcular la posición normalizada para CSS\n",
    "df_prediction['position'] = (len(df_prediction) - df_prediction.index) / len(df_prediction)\n",
    "\n",
    "# Convertimos el DataFrame a un diccionario para pasarlo a Jinja2\n",
    "conductores = df_prediction.to_dict(orient='records')\n",
    "\n",
    "# Renderizar la plantilla\n",
    "env = Environment(loader=FileSystemLoader('.'))\n",
    "template = env.get_template('template_f1_v2.html')\n",
    "\n",
    "# Renderiza la plantilla con los datos calculados\n",
    "output = template.render(data=conductores)\n",
    "\n",
    "# Guardar el HTML generado\n",
    "with open('f1_probabilidades_v2.html', 'w') as f:\n",
    "    f.write(output)\n"
   ]
  },
  {
   "cell_type": "code",
   "execution_count": 77,
   "metadata": {},
   "outputs": [
    {
     "data": {
      "text/html": [
       "<div>\n",
       "<style scoped>\n",
       "    .dataframe tbody tr th:only-of-type {\n",
       "        vertical-align: middle;\n",
       "    }\n",
       "\n",
       "    .dataframe tbody tr th {\n",
       "        vertical-align: top;\n",
       "    }\n",
       "\n",
       "    .dataframe thead th {\n",
       "        text-align: right;\n",
       "    }\n",
       "</style>\n",
       "<table border=\"1\" class=\"dataframe\">\n",
       "  <thead>\n",
       "    <tr style=\"text-align: right;\">\n",
       "      <th></th>\n",
       "      <th>driverId</th>\n",
       "      <th>probability</th>\n",
       "      <th>position</th>\n",
       "    </tr>\n",
       "  </thead>\n",
       "  <tbody>\n",
       "    <tr>\n",
       "      <th>0</th>\n",
       "      <td>Lando Norris - McLaren</td>\n",
       "      <td>0.994</td>\n",
       "      <td>1.0</td>\n",
       "    </tr>\n",
       "    <tr>\n",
       "      <th>1</th>\n",
       "      <td>Charles Leclerc - Ferrari</td>\n",
       "      <td>0.988</td>\n",
       "      <td>0.9</td>\n",
       "    </tr>\n",
       "    <tr>\n",
       "      <th>2</th>\n",
       "      <td>Esteban Ocon - Alpine F1 Team</td>\n",
       "      <td>0.907</td>\n",
       "      <td>0.8</td>\n",
       "    </tr>\n",
       "    <tr>\n",
       "      <th>3</th>\n",
       "      <td>George Russell - Mercedes</td>\n",
       "      <td>0.699</td>\n",
       "      <td>0.7</td>\n",
       "    </tr>\n",
       "    <tr>\n",
       "      <th>4</th>\n",
       "      <td>Lewis Hamilton - Mercedes</td>\n",
       "      <td>0.518</td>\n",
       "      <td>0.6</td>\n",
       "    </tr>\n",
       "    <tr>\n",
       "      <th>5</th>\n",
       "      <td>Alexander Albon - Williams</td>\n",
       "      <td>0.500</td>\n",
       "      <td>0.5</td>\n",
       "    </tr>\n",
       "    <tr>\n",
       "      <th>6</th>\n",
       "      <td>Daniel Ricciardo - RB F1 Team</td>\n",
       "      <td>0.500</td>\n",
       "      <td>0.4</td>\n",
       "    </tr>\n",
       "    <tr>\n",
       "      <th>7</th>\n",
       "      <td>Nico Hülkenberg - Haas F1 Team</td>\n",
       "      <td>0.500</td>\n",
       "      <td>0.3</td>\n",
       "    </tr>\n",
       "    <tr>\n",
       "      <th>8</th>\n",
       "      <td>Kevin Magnussen - Haas F1 Team</td>\n",
       "      <td>0.500</td>\n",
       "      <td>0.2</td>\n",
       "    </tr>\n",
       "    <tr>\n",
       "      <th>9</th>\n",
       "      <td>Lance Stroll - Aston Martin</td>\n",
       "      <td>0.500</td>\n",
       "      <td>0.1</td>\n",
       "    </tr>\n",
       "  </tbody>\n",
       "</table>\n",
       "</div>"
      ],
      "text/plain": [
       "                         driverId  probability  position\n",
       "0          Lando Norris - McLaren        0.994       1.0\n",
       "1       Charles Leclerc - Ferrari        0.988       0.9\n",
       "2   Esteban Ocon - Alpine F1 Team        0.907       0.8\n",
       "3       George Russell - Mercedes        0.699       0.7\n",
       "4       Lewis Hamilton - Mercedes        0.518       0.6\n",
       "5      Alexander Albon - Williams        0.500       0.5\n",
       "6   Daniel Ricciardo - RB F1 Team        0.500       0.4\n",
       "7  Nico Hülkenberg - Haas F1 Team        0.500       0.3\n",
       "8  Kevin Magnussen - Haas F1 Team        0.500       0.2\n",
       "9     Lance Stroll - Aston Martin        0.500       0.1"
      ]
     },
     "execution_count": 77,
     "metadata": {},
     "output_type": "execute_result"
    }
   ],
   "source": [
    "df_prediction"
   ]
  },
  {
   "cell_type": "markdown",
   "metadata": {},
   "source": [
    "## Versión final 1"
   ]
  },
  {
   "cell_type": "code",
   "execution_count": 1,
   "metadata": {},
   "outputs": [],
   "source": [
    "import pandas as pd\n",
    "df_prediction = pd.read_csv(\"D:\\\\visualization\\\\formula1\\\\data\\\\processed\\\\df_prediction.csv\")\n",
    "df_prediction = df_prediction.head(10)"
   ]
  },
  {
   "cell_type": "code",
   "execution_count": 2,
   "metadata": {},
   "outputs": [],
   "source": [
    "df_concatenado = pd.concat([df_prediction.iloc[0::2].sort_index(ascending=False), df_prediction.iloc[1::2].sort_index(ascending=False)], ignore_index=True)"
   ]
  },
  {
   "cell_type": "code",
   "execution_count": 5,
   "metadata": {},
   "outputs": [],
   "source": [
    "\n",
    "from jinja2 import Environment, FileSystemLoader\n",
    "\n",
    "# Crear 'data_tabla' en orden original para la tabla\n",
    "data_tabla = df_prediction.rename(columns={'name': 'driverId', 'probabilidad_ganar': 'probability'}).to_dict(orient='records')\n",
    "\n",
    "data_pista = df_concatenado.rename(columns={'name': 'driverId', 'probabilidad_ganar': 'probability'}).to_dict(orient='records')\n",
    "\n",
    "# Configuración de Jinja2 para renderizar el HTML\n",
    "env = Environment(loader=FileSystemLoader('.'))\n",
    "template = env.get_template('template_f1_v3.html')\n",
    "\n",
    "# Renderiza la plantilla con los datos calculados\n",
    "output = template.render(data_tabla=data_tabla, data_pista=data_pista)\n",
    "\n",
    "# Guardar el HTML resultante\n",
    "with open('f1_probabilidades_v3.html', 'w') as f:\n",
    "    f.write(output)\n"
   ]
  },
  {
   "cell_type": "markdown",
   "metadata": {},
   "source": [
    "Salida a github page"
   ]
  },
  {
   "cell_type": "code",
   "execution_count": 18,
   "metadata": {},
   "outputs": [],
   "source": [
    "\n",
    "from jinja2 import Environment, FileSystemLoader\n",
    "import os\n",
    "\n",
    "# Crear 'data_tabla' en orden original para la tabla\n",
    "data_tabla = df_prediction.rename(columns={'name': 'driverId', 'probabilidad_ganar': 'probability'}).to_dict(orient='records')\n",
    "\n",
    "data_pista = df_concatenado.rename(columns={'name': 'driverId', 'probabilidad_ganar': 'probability'}).to_dict(orient='records')\n",
    "\n",
    "# Configuración de Jinja2 para renderizar el HTML\n",
    "env = Environment(loader=FileSystemLoader('.'))\n",
    "template = env.get_template('template_f1_v3.html')\n",
    "\n",
    "# Renderiza la plantilla con los datos calculados\n",
    "output = template.render(data_tabla=data_tabla, data_pista=data_pista)\n",
    "\n",
    "# Ruta para guardar el archivo en `visualización/docs`\n",
    "output_dir = os.path.join('..','..', 'docs')\n",
    "output_path = os.path.join(output_dir, 'f1_probabilidades_v3.html')\n",
    "\n",
    "# Guardar el HTML resultante en la carpeta `docs`\n",
    "with open(output_path, 'w') as f:\n",
    "    f.write(output)"
   ]
  },
  {
   "cell_type": "markdown",
   "metadata": {},
   "source": [
    "## Versión final 2 - Prueba con API"
   ]
  },
  {
   "cell_type": "code",
   "execution_count": null,
   "metadata": {},
   "outputs": [],
   "source": [
    "import pandas as pd\n",
    "df_prediction = pd.read_csv(\"D:\\\\visualization\\\\formula1\\\\data\\\\processed\\\\df_prediction.csv\")\n",
    "df_prediction = df_prediction.head(10)"
   ]
  },
  {
   "cell_type": "code",
   "execution_count": null,
   "metadata": {},
   "outputs": [],
   "source": [
    "df_concatenado = pd.concat([df_prediction.iloc[0::2].sort_index(ascending=False), df_prediction.iloc[1::2].sort_index(ascending=False)], ignore_index=True)"
   ]
  },
  {
   "cell_type": "code",
   "execution_count": 26,
   "metadata": {},
   "outputs": [],
   "source": [
    "import requests\n",
    "import pandas as pd\n",
    "from jinja2 import Environment, FileSystemLoader\n",
    "import os\n",
    "\n",
    "# Obtener datos de la API y crear DataFrame para la tabla F1 actual\n",
    "response = requests.get('https://ergast.com/api/f1/current/driverStandings.json')\n",
    "data_json = response.json()\n",
    "\n",
    "# Extraer información relevante\n",
    "standings = data_json['MRData']['StandingsTable']['StandingsLists'][0]['DriverStandings']\n",
    "drivers_data = []\n",
    "for driver in standings:\n",
    "    drivers_data.append({\n",
    "        \"position\": driver['position'],\n",
    "        \"name\": f\"{driver['Driver']['givenName']} {driver['Driver']['familyName']}\",\n",
    "        \"points\": int(driver['points']),\n",
    "        \"wins\": int(driver['wins']),\n",
    "        \"constructor\": driver['Constructors'][0]['name']\n",
    "    })\n",
    "\n",
    "# Crear DataFrame de la tabla F1 actual\n",
    "df_f1 = pd.DataFrame(drivers_data)\n",
    "\n",
    "# Obtener el top 5\n",
    "f1_top5 = df_f1.head(5).to_dict(orient='records')\n",
    "\n",
    "# Calcular los valores máximos para puntos y victorias\n",
    "max_points = df_f1['points'].max()\n",
    "max_wins = df_f1['wins'].max()\n",
    "\n",
    "# Diccionario de colores para los constructores\n",
    "constructor_colors = {\n",
    "    \"Red Bull\": \"#1E90FF\",\n",
    "    \"Ferrari\": \"#FF6347\",\n",
    "    \"McLaren\": \"#FF8C00\",\n",
    "    \"Mercedes\": \"#32CD32\",\n",
    "    \"Aston Martin\": \"#228B22\",\n",
    "    \"Alpine F1 Team\": \"#4682B4\",\n",
    "    \"Williams\": \"#1E90FF\",\n",
    "    \"Haas F1 Team\": \"#696969\",\n",
    "    \"RB F1 Team\": \"#FFD700\",  # Añadir más constructores si es necesario\n",
    "    \"Sauber\": \"#C0C0C0\"\n",
    "}\n",
    "\n",
    "# Transformar datos para el HTML\n",
    "data_tabla = df_prediction.rename(columns={'name': 'driverId', 'probabilidad_ganar': 'probability'}).to_dict(orient='records')\n",
    "data_pista = df_concatenado.rename(columns={'name': 'driverId', 'probabilidad_ganar': 'probability'}).to_dict(orient='records')\n",
    "\n",
    "# Configuración de Jinja2 para renderizar el HTML\n",
    "env = Environment(loader=FileSystemLoader('.'))\n",
    "template = env.get_template('template_f1_v3.html')\n",
    "\n",
    "# Renderizar la plantilla con los datos calculados\n",
    "output = template.render(data_tabla=data_tabla, data_pista=data_pista, f1_top5=f1_top5, max_points=max_points, max_wins=max_wins, constructor_colors=constructor_colors)\n",
    "\n",
    "# Guardar el HTML resultante en la carpeta 'docs'\n",
    "with open('f1_probabilidades_v3.html', 'w') as f:\n",
    "    f.write(output)"
   ]
  },
  {
   "cell_type": "code",
   "execution_count": null,
   "metadata": {},
   "outputs": [],
   "source": []
  }
 ],
 "metadata": {
  "kernelspec": {
   "display_name": "modelo_formula1",
   "language": "python",
   "name": "python3"
  },
  "language_info": {
   "codemirror_mode": {
    "name": "ipython",
    "version": 3
   },
   "file_extension": ".py",
   "mimetype": "text/x-python",
   "name": "python",
   "nbconvert_exporter": "python",
   "pygments_lexer": "ipython3",
   "version": "3.9.20"
  }
 },
 "nbformat": 4,
 "nbformat_minor": 2
}
