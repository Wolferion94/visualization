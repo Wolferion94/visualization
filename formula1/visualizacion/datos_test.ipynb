{
 "cells": [
  {
   "cell_type": "code",
   "execution_count": 3,
   "metadata": {},
   "outputs": [],
   "source": [
    "from jinja2 import Environment, FileSystemLoader\n",
    "import pandas as pd"
   ]
  },
  {
   "cell_type": "code",
   "execution_count": 4,
   "metadata": {},
   "outputs": [],
   "source": [
    "import pandas as pd\n",
    "\n",
    "# Ejemplo de DataFrame con los resultados del modelo\n",
    "data = {\n",
    "    'driverId': ['DR001', 'DR002', 'DR003', 'DR004'],\n",
    "    'probability': [0.85, 0.65, 0.45, 0.30]\n",
    "}\n",
    "df_prob = pd.DataFrame(data)\n",
    "\n",
    "# Agregar una posición calculada (normalizada para su uso en CSS)\n",
    "df_prob['position'] = df_prob.index / len(df_prob)\n",
    "\n",
    "# Convertimos el DataFrame a un diccionario para pasarlo a Jinja2\n",
    "conductores = df_prob.to_dict(orient='records')\n",
    "\n",
    "# Aquí renderizas tu plantilla\n",
    "# Ejemplo usando Jinja2 para renderizar\n",
    "from jinja2 import Environment, FileSystemLoader\n",
    "\n",
    "env = Environment(loader=FileSystemLoader('.'))\n",
    "template = env.get_template('template_f1.html')\n",
    "\n",
    "# Renderiza la plantilla con los datos calculados\n",
    "output = template.render(data=conductores)\n",
    "\n",
    "with open('f1_probabilidades.html', 'w') as f:\n",
    "    f.write(output)\n"
   ]
  },
  {
   "cell_type": "markdown",
   "metadata": {},
   "source": [
    "## Versión estable"
   ]
  },
  {
   "cell_type": "code",
   "execution_count": 12,
   "metadata": {},
   "outputs": [],
   "source": [
    "import pandas as pd\n",
    "\n",
    "# Ejemplo de DataFrame con los resultados del modelo\n",
    "data = {\n",
    "    'driverId': ['DR001', 'DR002', 'DR003', 'DR004'],\n",
    "    'probability': [0.85, 0.65, 0.45, 0.30]\n",
    "}\n",
    "df_prob = pd.DataFrame(data)\n",
    "\n",
    "# Agregar una posición calculada (normalizada para su uso en CSS)\n",
    "df_prob['position'] = (len(df_prob) - df_prob.index) / len(df_prob)\n",
    "\n",
    "# Verificar si hay menos de 10 filas y agregar conductores ficticios si es necesario\n",
    "while len(df_prob) < 10:\n",
    "    # Crear un DataFrame con una fila adicional ficticia\n",
    "    new_row = pd.DataFrame({\n",
    "        'driverId': [f'DR00{len(df_prob)+1}'],  # ID ficticio\n",
    "        'probability': [0.0],  # Probabilidad mínima\n",
    "        'position': [(len(df_prob) + 1) / 10]  # Posición normalizada inversa\n",
    "    })\n",
    "    \n",
    "    # Añadir la nueva fila al DataFrame original usando pd.concat()\n",
    "    df_prob = pd.concat([df_prob, new_row], ignore_index=True)\n",
    "\n",
    "# Convertimos el DataFrame a un diccionario para pasarlo a Jinja2\n",
    "conductores = df_prob.to_dict(orient='records')\n",
    "\n",
    "# Aquí renderizas tu plantilla\n",
    "from jinja2 import Environment, FileSystemLoader\n",
    "\n",
    "env = Environment(loader=FileSystemLoader('.'))\n",
    "template = env.get_template('template_f1.html')\n",
    "\n",
    "# Renderiza la plantilla con los datos calculados\n",
    "output = template.render(data=conductores)\n",
    "\n",
    "with open('f1_probabilidades.html', 'w') as f:\n",
    "    f.write(output)\n"
   ]
  },
  {
   "cell_type": "markdown",
   "metadata": {},
   "source": [
    "## dev"
   ]
  },
  {
   "cell_type": "code",
   "execution_count": 28,
   "metadata": {},
   "outputs": [],
   "source": [
    "import pandas as pd\n",
    "\n",
    "# Ejemplo de DataFrame con los resultados del modelo\n",
    "data = {\n",
    "    'driverId': ['DR001', 'DR002', 'DR003', 'DR004'],\n",
    "    'probability': [0.85, 0.65, 0.45, 0.30]\n",
    "}\n",
    "df_prob = pd.DataFrame(data)\n",
    "\n",
    "# Agregar una posición calculada (normalizada para su uso en CSS)\n",
    "df_prob['position'] = (len(df_prob) - df_prob.index) / len(df_prob)\n",
    "\n",
    "# Verificar si hay menos de 10 filas y agregar conductores ficticios si es necesario\n",
    "while len(df_prob) < 10:\n",
    "    # Crear un DataFrame con una fila adicional ficticia\n",
    "    new_row = pd.DataFrame({\n",
    "        'driverId': [f'DR00{len(df_prob)+1}'],  # ID ficticio\n",
    "        'probability': [0.0],  # Probabilidad mínima\n",
    "        'position': [(len(df_prob) + 1) / 10]  # Posición normalizada inversa\n",
    "    })\n",
    "    \n",
    "    # Añadir la nueva fila al DataFrame original usando pd.concat()\n",
    "    df_prob = pd.concat([df_prob, new_row], ignore_index=True)\n",
    "\n",
    "# Convertimos el DataFrame a un diccionario para pasarlo a Jinja2\n",
    "conductores = df_prob.to_dict(orient='records')\n",
    "\n",
    "# Aquí renderizas tu plantilla\n",
    "from jinja2 import Environment, FileSystemLoader\n",
    "\n",
    "env = Environment(loader=FileSystemLoader('.'))\n",
    "template = env.get_template('template_f1_v2.html')\n",
    "\n",
    "# Renderiza la plantilla con los datos calculados\n",
    "output = template.render(data=conductores)\n",
    "\n",
    "with open('f1_probabilidades_v2.html', 'w') as f:\n",
    "    f.write(output)\n"
   ]
  },
  {
   "cell_type": "code",
   "execution_count": null,
   "metadata": {},
   "outputs": [],
   "source": []
  },
  {
   "cell_type": "code",
   "execution_count": null,
   "metadata": {},
   "outputs": [],
   "source": []
  }
 ],
 "metadata": {
  "kernelspec": {
   "display_name": "modelo_formula1",
   "language": "python",
   "name": "python3"
  },
  "language_info": {
   "codemirror_mode": {
    "name": "ipython",
    "version": 3
   },
   "file_extension": ".py",
   "mimetype": "text/x-python",
   "name": "python",
   "nbconvert_exporter": "python",
   "pygments_lexer": "ipython3",
   "version": "3.9.20"
  }
 },
 "nbformat": 4,
 "nbformat_minor": 2
}
