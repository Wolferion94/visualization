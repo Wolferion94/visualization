{
 "cells": [
  {
   "cell_type": "code",
   "execution_count": 3,
   "metadata": {},
   "outputs": [],
   "source": [
    "from jinja2 import Environment, FileSystemLoader\n",
    "import pandas as pd"
   ]
  },
  {
   "cell_type": "code",
   "execution_count": 5,
   "metadata": {},
   "outputs": [],
   "source": [
    "import pandas as pd\n",
    "\n",
    "# Ejemplo de DataFrame con los resultados del modelo\n",
    "data = {\n",
    "    'driverId': ['DR001', 'DR002', 'DR003', 'DR004'],\n",
    "    'probability': [0.85, 0.65, 0.45, 0.30]\n",
    "}\n",
    "df_prob = pd.DataFrame(data)\n",
    "\n",
    "# Ordenamos por la probabilidad en orden descendente\n",
    "df_prob = df_prob.sort_values(by='probability', ascending=False)\n",
    "\n",
    "# Guardamos los resultados en un archivo HTML usando una plantilla Jinja2\n",
    "df_prob.to_html('conductores_probabilidades.html', index=False)\n"
   ]
  },
  {
   "cell_type": "code",
   "execution_count": 15,
   "metadata": {},
   "outputs": [],
   "source": [
    "import pandas as pd\n",
    "\n",
    "# Ejemplo de DataFrame con los resultados del modelo\n",
    "data = {\n",
    "    'driverId': ['DR001', 'DR002', 'DR003', 'DR004'],\n",
    "    'probability': [0.85, 0.65, 0.45, 0.30]\n",
    "}\n",
    "df_prob = pd.DataFrame(data)\n",
    "\n",
    "# Agregar una posición calculada (normalizada para su uso en CSS)\n",
    "df_prob['position'] = df_prob.index / len(df_prob)\n",
    "\n",
    "# Convertimos el DataFrame a un diccionario para pasarlo a Jinja2\n",
    "conductores = df_prob.to_dict(orient='records')\n",
    "\n",
    "# Aquí renderizas tu plantilla\n",
    "# Ejemplo usando Jinja2 para renderizar\n",
    "from jinja2 import Environment, FileSystemLoader\n",
    "\n",
    "env = Environment(loader=FileSystemLoader('.'))\n",
    "template = env.get_template('template_f1.html')\n",
    "\n",
    "# Renderiza la plantilla con los datos calculados\n",
    "output = template.render(data=conductores)\n",
    "\n",
    "with open('f1_probabilidades.html', 'w') as f:\n",
    "    f.write(output)\n"
   ]
  },
  {
   "cell_type": "code",
   "execution_count": null,
   "metadata": {},
   "outputs": [],
   "source": []
  },
  {
   "cell_type": "code",
   "execution_count": null,
   "metadata": {},
   "outputs": [],
   "source": []
  }
 ],
 "metadata": {
  "kernelspec": {
   "display_name": "modelo_formula1",
   "language": "python",
   "name": "python3"
  },
  "language_info": {
   "codemirror_mode": {
    "name": "ipython",
    "version": 3
   },
   "file_extension": ".py",
   "mimetype": "text/x-python",
   "name": "python",
   "nbconvert_exporter": "python",
   "pygments_lexer": "ipython3",
   "version": "3.9.20"
  }
 },
 "nbformat": 4,
 "nbformat_minor": 2
}
