{
 "cells": [
  {
   "cell_type": "markdown",
   "metadata": {},
   "source": [
    "# Web Scraping METROCUADRADO página individual"
   ]
  },
  {
   "cell_type": "markdown",
   "metadata": {},
   "source": [
    "## Librerías"
   ]
  },
  {
   "cell_type": "code",
   "execution_count": 12,
   "metadata": {},
   "outputs": [],
   "source": [
    "from selenium import webdriver\n",
    "from selenium.webdriver.common.by import By\n",
    "from selenium.webdriver.support.ui import WebDriverWait\n",
    "from selenium.webdriver.support import expected_conditions as EC\n",
    "import time\n",
    "from bs4 import BeautifulSoup"
   ]
  },
  {
   "cell_type": "markdown",
   "metadata": {},
   "source": [
    "## Requerimiento a la pagína"
   ]
  },
  {
   "cell_type": "markdown",
   "metadata": {},
   "source": [
    "## Selección de grilla y extracción"
   ]
  },
  {
   "cell_type": "code",
   "execution_count": 81,
   "metadata": {},
   "outputs": [],
   "source": [
    "driver = webdriver.Chrome()\n",
    "driver.get('https://www.metrocuadrado.com/inmueble/venta-casa-chia-na-3-habitaciones-3-banos-2-garajes/11369-M4772309')\n",
    "# Get the page source after interactions\n",
    "page_source = driver.page_source\n",
    "# Parse the page source with Beautiful Soup\n",
    "soup = BeautifulSoup(page_source, 'lxml')\n",
    "\n",
    "driver.quit()\n",
    "\n",
    "house_grill = soup.find('div', class_ = 'page-container')\n",
    "\n",
    "info1_list = []\n",
    "\n",
    "estrato = int(house_grill.find('ul', class_ = 'list-feature-detail').find_all('h2', class_ = 'card-text')[3].text.replace('Estrato',''))\n",
    "info1_list.append(estrato)\n",
    "\n",
    "descripcion = house_grill.find('p', class_ = 'card-text').text\n",
    "info1_list.append(descripcion)\n",
    "\n",
    "info_principal = house_grill.find('div', class_ = 'card-details').find_all('div', class_ = 'col-lg-3')\n",
    "\n",
    "for info in info_principal:\n",
    "    info1_list.append(info.find('p', class_ = 'card-text').text)\n",
    "\n",
    "gastos_notariales = house_grill.find('p', class_ = 'notary-fees-simulator-container__info__price').text\n",
    "info1_list.append(gastos_notariales)\n",
    "\n",
    "caracteristicas = house_grill.find_all('div', class_ = 'featureacordion')[0].find_all('div', class_ = 'col-md-3')\n",
    "\n",
    "for caracteristica in caracteristicas:\n",
    "    info1_list.append(caracteristica.text)"
   ]
  },
  {
   "cell_type": "markdown",
   "metadata": {},
   "source": [
    "Versión función"
   ]
  },
  {
   "cell_type": "code",
   "execution_count": 83,
   "metadata": {},
   "outputs": [],
   "source": [
    "def scrape_property_info(url):\n",
    "    \"\"\"\n",
    "    Scrapes property information from a given Metrocuadrado listing URL.\n",
    "\n",
    "    Parameters\n",
    "    ----------\n",
    "    url : str\n",
    "        The URL of the Metrocuadrado property listing page.\n",
    "\n",
    "    Returns\n",
    "    -------\n",
    "    list\n",
    "        A list containing various details about the property, such as \n",
    "        estrato, description, principal information, notarial fees, \n",
    "        and characteristics.\n",
    "\n",
    "    Examples\n",
    "    --------\n",
    "    >>> info = scrape_property_info('https://www.metrocuadrado.com/inmueble/venta-casa-chia-na-3-habitaciones-3-banos-2-garajes/11369-M4772309')\n",
    "    >>> print(info)\n",
    "    [3, 'Charming house in Chia...', '$680,000,000', ...]\n",
    "    \"\"\"\n",
    "    # Initialize the Chrome WebDriver\n",
    "    driver = webdriver.Chrome()\n",
    "    \n",
    "    # Load the specified URL\n",
    "    driver.get(url)\n",
    "    \n",
    "    # Get the page source after interactions\n",
    "    page_source = driver.page_source\n",
    "    \n",
    "    # Parse the page source with Beautiful Soup\n",
    "    soup = BeautifulSoup(page_source, 'lxml')\n",
    "    \n",
    "    # Close the WebDriver\n",
    "    driver.quit()\n",
    "    \n",
    "    # Find the main container with the property information\n",
    "    house_grill = soup.find('div', class_='page-container')\n",
    "    \n",
    "    # Initialize an empty list to store the property details\n",
    "    info1_list = []\n",
    "    \n",
    "    # Extract the 'estrato' information and append it to the list\n",
    "    estrato = int(house_grill.find('ul', class_='list-feature-detail').find_all('h2', class_='card-text')[3].text.replace('Estrato', ''))\n",
    "    info1_list.append(estrato)\n",
    "    \n",
    "    # Extract the property description and append it to the list\n",
    "    descripcion = house_grill.find('p', class_='card-text').text\n",
    "    info1_list.append(descripcion)\n",
    "    \n",
    "    # Extract the main property details and append each to the list\n",
    "    info_principal = house_grill.find('div', class_='card-details').find_all('div', class_='col-lg-3')\n",
    "    for info in info_principal:\n",
    "        info1_list.append(info.find('p', class_='card-text').text)\n",
    "    \n",
    "    # Extract notarial fees and append to the list\n",
    "    gastos_notariales = house_grill.find('p', class_='notary-fees-simulator-container__info__price').text\n",
    "    info1_list.append(gastos_notariales)\n",
    "    \n",
    "    # Extract additional property characteristics and append each to the list\n",
    "    caracteristicas = house_grill.find_all('div', class_='featureacordion')[0].find_all('div', class_='col-md-3')\n",
    "    for caracteristica in caracteristicas:\n",
    "        info1_list.append(caracteristica.text)\n",
    "    \n",
    "    # Return the list of property details\n",
    "    return info1_list\n"
   ]
  },
  {
   "cell_type": "code",
   "execution_count": 85,
   "metadata": {},
   "outputs": [
    {
     "name": "stdout",
     "output_type": "stream",
     "text": [
      "https://www.metrocuadrado.com/inmueble/venta-casa-chia-na-3-habitaciones-3-banos-2-garajes/11369-M4772309\n",
      "https://www.metrocuadrado.com/inmueble/venta-casa-turbaco-prado-verde-3-habitaciones-3-banos-1-garajes/17119-M5011824\n"
     ]
    }
   ],
   "source": [
    "info_out = []\n",
    "url_list = ['https://www.metrocuadrado.com/inmueble/venta-casa-chia-na-3-habitaciones-3-banos-2-garajes/11369-M4772309',\n",
    "            'https://www.metrocuadrado.com/inmueble/venta-casa-turbaco-prado-verde-3-habitaciones-3-banos-1-garajes/17119-M5011824']\n",
    "\n",
    "for url in url_list:\n",
    "    print(url)\n",
    "    info_out.append(scrape_property_info(url))"
   ]
  },
  {
   "cell_type": "code",
   "execution_count": 87,
   "metadata": {},
   "outputs": [
    {
     "data": {
      "text/plain": [
       "2"
      ]
     },
     "execution_count": 87,
     "metadata": {},
     "output_type": "execute_result"
    }
   ],
   "source": [
    "len(info_out)"
   ]
  },
  {
   "cell_type": "markdown",
   "metadata": {},
   "source": [
    "Forma de almacenar"
   ]
  },
  {
   "cell_type": "code",
   "execution_count": 51,
   "metadata": {},
   "outputs": [
    {
     "data": {
      "text/html": [
       "<div>\n",
       "<style scoped>\n",
       "    .dataframe tbody tr th:only-of-type {\n",
       "        vertical-align: middle;\n",
       "    }\n",
       "\n",
       "    .dataframe tbody tr th {\n",
       "        vertical-align: top;\n",
       "    }\n",
       "\n",
       "    .dataframe thead th {\n",
       "        text-align: right;\n",
       "    }\n",
       "</style>\n",
       "<table border=\"1\" class=\"dataframe\">\n",
       "  <thead>\n",
       "    <tr style=\"text-align: right;\">\n",
       "      <th></th>\n",
       "      <th>Código</th>\n",
       "      <th>Dirección</th>\n",
       "      <th>Precio</th>\n",
       "      <th>Antigüedad</th>\n",
       "      <th>Área Construida</th>\n",
       "      <th>Área Total</th>\n",
       "      <th>Precio por m²</th>\n",
       "      <th>Habitaciones</th>\n",
       "    </tr>\n",
       "  </thead>\n",
       "  <tbody>\n",
       "    <tr>\n",
       "      <th>0</th>\n",
       "      <td>11369-M4772309</td>\n",
       "      <td>Vereda Tiquiza</td>\n",
       "      <td>$680.000.000</td>\n",
       "      <td>Entre 5 y 10 años</td>\n",
       "      <td>111 m²</td>\n",
       "      <td>155 m²</td>\n",
       "      <td>$738.000</td>\n",
       "      <td>2</td>\n",
       "    </tr>\n",
       "    <tr>\n",
       "      <th>1</th>\n",
       "      <td>11370-M4772310</td>\n",
       "      <td>Calle Falsa 123</td>\n",
       "      <td>$720.000.000</td>\n",
       "      <td>Menos de 5 años</td>\n",
       "      <td>120 m²</td>\n",
       "      <td>160 m²</td>\n",
       "      <td>$800.000</td>\n",
       "      <td>3</td>\n",
       "    </tr>\n",
       "  </tbody>\n",
       "</table>\n",
       "</div>"
      ],
      "text/plain": [
       "           Código        Dirección        Precio         Antigüedad  \\\n",
       "0  11369-M4772309   Vereda Tiquiza  $680.000.000  Entre 5 y 10 años   \n",
       "1  11370-M4772310  Calle Falsa 123  $720.000.000    Menos de 5 años   \n",
       "\n",
       "  Área Construida Área Total Precio por m² Habitaciones  \n",
       "0          111 m²     155 m²      $738.000            2  \n",
       "1          120 m²     160 m²      $800.000            3  "
      ]
     },
     "execution_count": 51,
     "metadata": {},
     "output_type": "execute_result"
    }
   ],
   "source": [
    "import pandas as pd\n",
    "\n",
    "# Lista de listas concatenadas\n",
    "data = [\n",
    "    ['11369-M4772309', 'Vereda Tiquiza', '$680.000.000', 'Entre 5 y 10 años', '111 m²', '155 m²', '$738.000', '2'],\n",
    "    ['11370-M4772310', 'Calle Falsa 123', '$720.000.000', 'Menos de 5 años', '120 m²', '160 m²', '$800.000', '3']\n",
    "]\n",
    "\n",
    "# Crear un DataFrame\n",
    "df = pd.DataFrame(data, columns=[\n",
    "    'Código',\n",
    "    'Dirección',\n",
    "    'Precio',\n",
    "    'Antigüedad',\n",
    "    'Área Construida',\n",
    "    'Área Total',\n",
    "    'Precio por m²',\n",
    "    'Habitaciones'\n",
    "])\n",
    "\n",
    "# Mostrar el DataFrame\n",
    "df\n"
   ]
  },
  {
   "cell_type": "code",
   "execution_count": null,
   "metadata": {},
   "outputs": [],
   "source": []
  }
 ],
 "metadata": {
  "kernelspec": {
   "display_name": "scraping",
   "language": "python",
   "name": "python3"
  },
  "language_info": {
   "codemirror_mode": {
    "name": "ipython",
    "version": 3
   },
   "file_extension": ".py",
   "mimetype": "text/x-python",
   "name": "python",
   "nbconvert_exporter": "python",
   "pygments_lexer": "ipython3",
   "version": "3.12.4"
  }
 },
 "nbformat": 4,
 "nbformat_minor": 2
}
