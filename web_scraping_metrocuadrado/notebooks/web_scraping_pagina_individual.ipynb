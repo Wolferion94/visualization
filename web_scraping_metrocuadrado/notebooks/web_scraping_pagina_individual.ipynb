{
 "cells": [
  {
   "cell_type": "markdown",
   "metadata": {},
   "source": [
    "# Web Scraping METROCUADRADO página individual"
   ]
  },
  {
   "cell_type": "markdown",
   "metadata": {},
   "source": [
    "## Librerías"
   ]
  },
  {
   "cell_type": "code",
   "execution_count": 20,
   "metadata": {},
   "outputs": [],
   "source": [
    "from selenium import webdriver\n",
    "from selenium.webdriver.common.by import By\n",
    "from selenium.webdriver.support.ui import WebDriverWait\n",
    "from selenium.webdriver.support import expected_conditions as EC\n",
    "import time\n",
    "from bs4 import BeautifulSoup\n",
    "import pandas as pd"
   ]
  },
  {
   "cell_type": "markdown",
   "metadata": {},
   "source": [
    "### Selección de grilla y extracción"
   ]
  },
  {
   "cell_type": "markdown",
   "metadata": {},
   "source": [
    "Código base"
   ]
  },
  {
   "cell_type": "code",
   "execution_count": 13,
   "metadata": {},
   "outputs": [],
   "source": [
    "driver = webdriver.Chrome()\n",
    "driver.get('https://www.metrocuadrado.com/inmueble/venta-casa-chia-na-3-habitaciones-3-banos-2-garajes/11369-M4772309')\n",
    "# Get the page source after interactions\n",
    "page_source = driver.page_source\n",
    "# Parse the page source with Beautiful Soup\n",
    "soup = BeautifulSoup(page_source, 'lxml')\n",
    "\n",
    "driver.quit()\n",
    "\n",
    "house_grill = soup.find('div', class_ = 'page-container')\n",
    "\n",
    "info1_list = []\n",
    "\n",
    "caracteristica_list = []\n",
    "\n",
    "estrato = int(house_grill.find('ul', class_ = 'list-feature-detail').find_all('h2', class_ = 'card-text')[3].text.replace('Estrato',''))\n",
    "info1_list.append(estrato)\n",
    "\n",
    "descripcion = house_grill.find('p', class_ = 'card-text').text\n",
    "info1_list.append(descripcion)\n",
    "\n",
    "info_principal = house_grill.find('div', class_ = 'card-details').find_all('div', class_ = 'col-lg-3')\n",
    "\n",
    "for info in info_principal:\n",
    "    info1_list.append(info.find('p', class_ = 'card-text').text)\n",
    "\n",
    "gastos_notariales = house_grill.find('p', class_ = 'notary-fees-simulator-container__info__price').text\n",
    "info1_list.append(gastos_notariales)\n",
    "\n",
    "caracteristicas = house_grill.find_all('div', class_ = 'featureacordion')[0].find_all('div', class_ = 'col-md-3')\n",
    "\n",
    "for caracteristica in caracteristicas:\n",
    "    caracteristica_list.append(caracteristica.text)\n",
    "\n",
    "info1_list.append(', '.join(map(str, caracteristica_list)))"
   ]
  },
  {
   "cell_type": "markdown",
   "metadata": {},
   "source": [
    "# Ejecución"
   ]
  },
  {
   "cell_type": "code",
   "execution_count": 23,
   "metadata": {},
   "outputs": [],
   "source": [
    "def scrape_property_info(url):\n",
    "    \"\"\"\n",
    "    Scrapes property information from a given Metrocuadrado listing URL.\n",
    "\n",
    "    Parameters\n",
    "    ----------\n",
    "    url : str\n",
    "        The URL of the Metrocuadrado property listing page.\n",
    "\n",
    "    Returns\n",
    "    -------\n",
    "    list\n",
    "        A list containing various details about the property, such as \n",
    "        estrato, description, principal information, notarial fees, \n",
    "        and characteristics.\n",
    "\n",
    "    Examples\n",
    "    --------\n",
    "    >>> info = scrape_property_info('https://www.metrocuadrado.com/inmueble/venta-casa-chia-na-3-habitaciones-3-banos-2-garajes/11369-M4772309')\n",
    "    >>> print(info)\n",
    "    [3, 'Charming house in Chia...', '$680,000,000', ...]\n",
    "    \"\"\"\n",
    "    # Initialize the Chrome WebDriver\n",
    "    driver = webdriver.Chrome()\n",
    "    \n",
    "    # Load the specified URL\n",
    "    driver.get(url)\n",
    "    \n",
    "    # Get the page source after interactions\n",
    "    page_source = driver.page_source\n",
    "    \n",
    "    # Parse the page source with Beautiful Soup\n",
    "    soup = BeautifulSoup(page_source, 'lxml')\n",
    "    \n",
    "    # Close the WebDriver\n",
    "    driver.quit()\n",
    "    \n",
    "    # Find the main container with the property information\n",
    "    house_grill = soup.find('div', class_='page-container')\n",
    "    \n",
    "    # Initialize an empty list to store the property details\n",
    "    info1_list = []\n",
    "    caracteristica_list = []\n",
    "    \n",
    "    # Extract the 'estrato' information and append it to the list\n",
    "    estrato = int(house_grill.find('ul', class_='list-feature-detail').find_all('h2', class_='card-text')[3].text.replace('Estrato', ''))\n",
    "    info1_list.append(estrato)\n",
    "    \n",
    "    # Extract the property description and append it to the list\n",
    "    descripcion = house_grill.find('p', class_='card-text').text\n",
    "    info1_list.append(descripcion)\n",
    "    \n",
    "    # Extract the main property details and append each to the list\n",
    "    info_principal = house_grill.find('div', class_='card-details').find_all('div', class_='col-lg-3')\n",
    "    for info in info_principal:\n",
    "        info1_list.append(info.find('p', class_='card-text').text)\n",
    "    \n",
    "    # Extract notarial fees and append to the list\n",
    "    gastos_notariales = house_grill.find('p', class_='notary-fees-simulator-container__info__price').text\n",
    "    info1_list.append(gastos_notariales)\n",
    "    \n",
    "    # Extract additional property characteristics and append each to the list\n",
    "    caracteristicas = house_grill.find_all('div', class_='featureacordion')[0].find_all('div', class_='col-md-3')\n",
    "    for caracteristica in caracteristicas:\n",
    "        caracteristica_list.append(caracteristica.text)\n",
    "\n",
    "    info1_list.append(', '.join(map(str, caracteristica_list)))\n",
    "\n",
    "    # Add link page\n",
    "    info1_list.append(url)\n",
    "    \n",
    "    # Return the list of property details\n",
    "    return info1_list\n"
   ]
  },
  {
   "cell_type": "markdown",
   "metadata": {},
   "source": [
    "## Web Scraping individual"
   ]
  },
  {
   "cell_type": "code",
   "execution_count": 28,
   "metadata": {},
   "outputs": [],
   "source": [
    "data_principal = pd.read_csv(r'D:\\visualization\\web_scraping_metrocuadrado\\data\\metrocuadrado_principal.csv')"
   ]
  },
  {
   "cell_type": "code",
   "execution_count": 24,
   "metadata": {},
   "outputs": [
    {
     "name": "stdout",
     "output_type": "stream",
     "text": [
      "Procesando: https://www.metrocuadrado.com/inmueble/venta-casa-chia-na-3-habitaciones-3-banos-2-garajes/11369-M4772309\n",
      "Quedan 1 páginas por procesar.\n",
      "Procesando: https://www.metrocuadrado.com/inmueble/venta-casa-turbaco-prado-verde-3-habitaciones-3-banos-1-garajes/17119-M5011824\n",
      "Quedan 0 páginas por procesar.\n"
     ]
    }
   ],
   "source": [
    "info_out = []\n",
    "url_list = data_principal.Link.to_list\n",
    "\n",
    "total_paginas = len(url_list)  # Número total de páginas\n",
    "\n",
    "for i, url in enumerate(url_list):\n",
    "    # Calcular cuántas páginas quedan por procesar\n",
    "    paginas_restantes = total_paginas - (i + 1)\n",
    "    print(f\"Quedan {paginas_restantes} páginas por procesar.\")\n",
    "    \n",
    "    # Espera de 5 segundos antes de la siguiente iteración, a menos que sea la última página\n",
    "    if paginas_restantes > 0:\n",
    "        time.sleep(3)\n",
    "\n",
    "df = pd.DataFrame(info_out, columns=[\n",
    "    'Estrato',\n",
    "    'Descripción',\n",
    "    'Codigo',\n",
    "    'Barrio',\n",
    "    'Precio',\n",
    "    'Antiguedad',\n",
    "    'Area_construida',\n",
    "    'Area_privada',\n",
    "    'Valor_administracion',\n",
    "    'Parqueaderos',\n",
    "    'Gastos_notariales',\n",
    "    'Caracteristicas',\n",
    "    'Link'\n",
    "])\n",
    "\n",
    "df.to_csv('metrocuadrado_individual.csv',index= False)"
   ]
  },
  {
   "cell_type": "code",
   "execution_count": null,
   "metadata": {},
   "outputs": [],
   "source": []
  }
 ],
 "metadata": {
  "kernelspec": {
   "display_name": "scraping",
   "language": "python",
   "name": "python3"
  },
  "language_info": {
   "codemirror_mode": {
    "name": "ipython",
    "version": 3
   },
   "file_extension": ".py",
   "mimetype": "text/x-python",
   "name": "python",
   "nbconvert_exporter": "python",
   "pygments_lexer": "ipython3",
   "version": "3.12.4"
  }
 },
 "nbformat": 4,
 "nbformat_minor": 2
}
