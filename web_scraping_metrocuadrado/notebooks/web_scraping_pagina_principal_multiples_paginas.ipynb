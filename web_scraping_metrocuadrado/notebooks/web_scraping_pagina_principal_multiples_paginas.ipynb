{
 "cells": [
  {
   "cell_type": "markdown",
   "metadata": {},
   "source": [
    "# Web Scraping METROCUADRADO"
   ]
  },
  {
   "cell_type": "markdown",
   "metadata": {},
   "source": [
    "## Librerías"
   ]
  },
  {
   "cell_type": "code",
   "execution_count": 1,
   "metadata": {},
   "outputs": [],
   "source": [
    "from selenium import webdriver\n",
    "from bs4 import BeautifulSoup\n",
    "import pandas as pd"
   ]
  },
  {
   "cell_type": "markdown",
   "metadata": {},
   "source": [
    "## Requerimiento a la pagína"
   ]
  },
  {
   "cell_type": "markdown",
   "metadata": {},
   "source": [
    "## Selección de grilla"
   ]
  },
  {
   "cell_type": "code",
   "execution_count": 33,
   "metadata": {},
   "outputs": [],
   "source": [
    "driver = webdriver.Chrome()\n",
    "driver.get('https://www.metrocuadrado.com/venta/?search=form')\n",
    "# Get the page source after interactions\n",
    "page_source = driver.page_source\n",
    "# Parse the page source with Beautiful Soup\n",
    "soup = BeautifulSoup(page_source, 'lxml')\n",
    "\n",
    "driver.quit()"
   ]
  },
  {
   "cell_type": "code",
   "execution_count": 4,
   "metadata": {},
   "outputs": [],
   "source": [
    "house_grill = soup.find('ul', class_ = 'browse-results-list')"
   ]
  },
  {
   "cell_type": "markdown",
   "metadata": {},
   "source": [
    "## Página inicial"
   ]
  },
  {
   "cell_type": "code",
   "execution_count": 39,
   "metadata": {},
   "outputs": [
    {
     "name": "stdout",
     "output_type": "stream",
     "text": [
      "                     Nombre_publicacion Precio_inmueble Area_construida  \\\n",
      "0   Casa en Venta, SIERRA NEVADA, Vill…    $700.000.000          350 m²   \n",
      "1    Apartamento en Venta, CERROS DE S…  $1.400.000.000          225 m²   \n",
      "2             Casa en Venta, chia, Chía  $2.800.000.000          420 m²   \n",
      "3  Casa en Venta, condominio campestre…  $2.500.000.000          350 m²   \n",
      "4  Casa en Venta, SOTILEZA, Bogotá D.C.  $2.500.000.000          642 m²   \n",
      "\n",
      "  Habitaciones Banios  \n",
      "0            5      5  \n",
      "1            3      5  \n",
      "2            5      5  \n",
      "3            5      5  \n",
      "4            3      4  \n"
     ]
    }
   ],
   "source": [
    "name_houses_list = []\n",
    "price_houses = []\n",
    "area_houses = []\n",
    "rooms_houses = []\n",
    "baths_houses = []\n",
    "\n",
    "for name_houses in house_grill:\n",
    "\n",
    "    name = name_houses.find('h2', class_ = 'card-title').text\n",
    "    name_houses_list.append(name)\n",
    "\n",
    "    info = name_houses.find_all('p', class_ = 'card-subitem')\n",
    "    \n",
    "    price_houses.append(info[0].text)\n",
    "    area_houses.append(info[1].text)\n",
    "    rooms_houses.append(info[2].text)\n",
    "    baths_houses.append(info[3].text)\n",
    "\n",
    "\n",
    "df = pd.DataFrame(name_houses_list, columns=['Nombre_publicacion'])\n",
    "df['Precio_inmueble'] = price_houses\n",
    "df['Area_construida'] = area_houses\n",
    "df['Habitaciones'] = rooms_houses\n",
    "df['Banios'] = baths_houses\n",
    "print(df.head(5))"
   ]
  },
  {
   "cell_type": "code",
   "execution_count": 32,
   "metadata": {},
   "outputs": [
    {
     "data": {
      "text/plain": [
       "(50, 5)"
      ]
     },
     "execution_count": 32,
     "metadata": {},
     "output_type": "execute_result"
    }
   ],
   "source": [
    "link_list = []\n",
    "\n",
    "for link in house_grill.find_all('a', class_ = 'sc-bdVaJa ebNrSm', target = '_blank'):\n",
    "\n",
    "    try:\n",
    "        link_list.append('https://www.metrocuadrado.com' + link['href'])\n",
    "    except:\n",
    "        print('error')"
   ]
  },
  {
   "cell_type": "markdown",
   "metadata": {},
   "source": [
    "# Multiples páginas"
   ]
  },
  {
   "cell_type": "code",
   "execution_count": 3,
   "metadata": {},
   "outputs": [],
   "source": [
    "from selenium import webdriver\n",
    "from bs4 import BeautifulSoup\n",
    "import pandas as pd\n",
    "\n",
    "from selenium.webdriver.common.by import By\n",
    "from selenium.webdriver.support.ui import WebDriverWait\n",
    "from selenium.webdriver.support import expected_conditions as EC\n",
    "import time"
   ]
  },
  {
   "cell_type": "code",
   "execution_count": 4,
   "metadata": {},
   "outputs": [
    {
     "name": "stdout",
     "output_type": "stream",
     "text": [
      "Página: 1\n",
      "<selenium.webdriver.remote.webelement.WebElement (session=\"8c65c81f02a361ae2ce6bb90c99d4757\", element=\"f.1886445005B919391D8FFF7869AC1B42.d.30916FD3909583224CBCE4DD96DCDE17.e.149\")>\n",
      "Página: 2\n",
      "<selenium.webdriver.remote.webelement.WebElement (session=\"8c65c81f02a361ae2ce6bb90c99d4757\", element=\"f.1886445005B919391D8FFF7869AC1B42.d.30916FD3909583224CBCE4DD96DCDE17.e.150\")>\n",
      "Página: 3\n",
      "<selenium.webdriver.remote.webelement.WebElement (session=\"8c65c81f02a361ae2ce6bb90c99d4757\", element=\"f.1886445005B919391D8FFF7869AC1B42.d.30916FD3909583224CBCE4DD96DCDE17.e.151\")>\n",
      "Página: 4\n",
      "<selenium.webdriver.remote.webelement.WebElement (session=\"8c65c81f02a361ae2ce6bb90c99d4757\", element=\"f.1886445005B919391D8FFF7869AC1B42.d.30916FD3909583224CBCE4DD96DCDE17.e.152\")>\n",
      "Página: 5\n",
      "<selenium.webdriver.remote.webelement.WebElement (session=\"8c65c81f02a361ae2ce6bb90c99d4757\", element=\"f.1886445005B919391D8FFF7869AC1B42.d.30916FD3909583224CBCE4DD96DCDE17.e.153\")>\n",
      "Página: 6\n",
      "<selenium.webdriver.remote.webelement.WebElement (session=\"8c65c81f02a361ae2ce6bb90c99d4757\", element=\"f.1886445005B919391D8FFF7869AC1B42.d.30916FD3909583224CBCE4DD96DCDE17.e.154\")>\n",
      "Página: 7\n",
      "<selenium.webdriver.remote.webelement.WebElement (session=\"8c65c81f02a361ae2ce6bb90c99d4757\", element=\"f.1886445005B919391D8FFF7869AC1B42.d.30916FD3909583224CBCE4DD96DCDE17.e.162\")>\n",
      "Página: 8\n",
      "<selenium.webdriver.remote.webelement.WebElement (session=\"8c65c81f02a361ae2ce6bb90c99d4757\", element=\"f.1886445005B919391D8FFF7869AC1B42.d.30916FD3909583224CBCE4DD96DCDE17.e.163\")>\n",
      "Página: 9\n",
      "<selenium.webdriver.remote.webelement.WebElement (session=\"8c65c81f02a361ae2ce6bb90c99d4757\", element=\"f.1886445005B919391D8FFF7869AC1B42.d.30916FD3909583224CBCE4DD96DCDE17.e.155\")>\n",
      "Página: 10\n",
      "Total page scrap.\n"
     ]
    }
   ],
   "source": [
    "driver = webdriver.Chrome()\n",
    "driver.get('https://www.metrocuadrado.com/venta/?search=form')\n",
    "# Get the page source after interactions\n",
    "page_source = driver.page_source\n",
    "# Parse the page source with Beautiful Soup\n",
    "soup = BeautifulSoup(page_source, 'lxml')\n",
    "\n",
    "\n",
    "df_final = pd.DataFrame()\n",
    "\n",
    "num_page = 10\n",
    "\n",
    "try:\n",
    "    # Espera hasta que la página cargue completamente\n",
    "    WebDriverWait(driver, 5).until(EC.presence_of_element_located((By.CLASS_NAME, \"browse-results-list\")))\n",
    "\n",
    "    # Ciclo para navegar a través de las páginas\n",
    "    current_page = 1\n",
    "    while True:\n",
    "        \n",
    "        # Extrae datos aquí, por ejemplo, nombres de productos\n",
    "        \n",
    "        df = pd.DataFrame()\n",
    "        \n",
    "        #elements = driver.find_elements(By.CLASS_NAME, \"browse-results-list\")\n",
    "        house_grill = soup.find('ul', class_ = 'browse-results-list')\n",
    "        name_houses_list = []\n",
    "        price_houses = []\n",
    "        area_houses = []\n",
    "        rooms_houses = []\n",
    "        baths_houses = []\n",
    "        link_list = []\n",
    "\n",
    "        for name_houses in house_grill:\n",
    "\n",
    "            name = name_houses.find('h2', class_ = 'card-title').text\n",
    "            name_houses_list.append(name)\n",
    "\n",
    "            info = name_houses.find_all('p', class_ = 'card-subitem')\n",
    "            \n",
    "            price_houses.append(info[0].text)\n",
    "            area_houses.append(info[1].text)\n",
    "            rooms_houses.append(info[2].text)\n",
    "            baths_houses.append(info[3].text)\n",
    "\n",
    "\n",
    "        df = pd.DataFrame(name_houses_list, columns=['Nombre_publicacion'])\n",
    "        df['Precio_inmueble'] = price_houses\n",
    "        df['Area_construida'] = area_houses\n",
    "        df['Habitaciones'] = rooms_houses\n",
    "        df['Banios'] = baths_houses\n",
    "        df['Pagina'] = current_page\n",
    "        \n",
    "        #Scraping link            \n",
    "\n",
    "        for link in house_grill.find_all('a', class_ = 'sc-bdVaJa ebNrSm', target = '_blank'):\n",
    "\n",
    "            try:\n",
    "                link_list.append('https://www.metrocuadrado.com' + link['href'])\n",
    "            except:\n",
    "                print('Error')\n",
    "\n",
    "        df['Link'] = list(dict.fromkeys(link_list))\n",
    "        \n",
    "        \n",
    "        print(\"Página:\",current_page)\n",
    "\n",
    "        df_final = pd.concat([df_final, df], ignore_index=True)\n",
    "\n",
    "        # Intenta encontrar el número de la siguiente página y hacer clic en él\n",
    "        next_page = current_page + 1\n",
    "        page_elements = driver.find_elements(By.CLASS_NAME, \"pagination\")\n",
    "\n",
    "        find_element = driver.find_element(By.CLASS_NAME, \"pagination\")\n",
    "\n",
    "        # Ejecutar JavaScript para hacer scroll hasta el elemento\n",
    "        driver.execute_script(\"arguments[0].scrollIntoView(true);\", find_element)        \n",
    "\n",
    "        found_next_page = False \n",
    "\n",
    "        time.sleep(10)    \n",
    "\n",
    "        if current_page == num_page:\n",
    "            print(\"Total page scrap.\")\n",
    "            break   \n",
    "\n",
    "        # # Iterar sobre cada elemento para imprimir su texto\n",
    "        for page_element in page_elements:\n",
    "            for page in page_element.find_elements(By.CLASS_NAME, 'page-link'):               \n",
    "                if page.tag_name == 'a':\n",
    "                    if page.text == str(next_page):                   \n",
    "                        print(page)\n",
    "                        page.click()\n",
    "                        found_next_page = True\n",
    "                        current_page = next_page\n",
    "                        time.sleep(5)  # Espera para asegurar que la página se haya cargado completamente\n",
    "                        break\n",
    "        \n",
    "        if not found_next_page:\n",
    "            print(\"Reached last page.\")\n",
    "            break\n",
    "\n",
    "# except Exception as e:\n",
    "#      print(f\"An error occurred: {e}\")\n",
    "finally:\n",
    "    # Cierra el navegador\n",
    "    driver.quit()\n",
    "    \n",
    "\n",
    "df_final.to_csv('metrocuadrado_principal.csv',index=False)"
   ]
  }
 ],
 "metadata": {
  "kernelspec": {
   "display_name": "scraping",
   "language": "python",
   "name": "python3"
  },
  "language_info": {
   "codemirror_mode": {
    "name": "ipython",
    "version": 3
   },
   "file_extension": ".py",
   "mimetype": "text/x-python",
   "name": "python",
   "nbconvert_exporter": "python",
   "pygments_lexer": "ipython3",
   "version": "3.12.4"
  }
 },
 "nbformat": 4,
 "nbformat_minor": 2
}
